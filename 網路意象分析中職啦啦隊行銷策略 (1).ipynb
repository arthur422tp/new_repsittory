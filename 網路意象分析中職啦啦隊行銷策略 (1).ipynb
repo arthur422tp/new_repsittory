{
  "nbformat": 4,
  "nbformat_minor": 0,
  "metadata": {
    "colab": {
      "provenance": [],
      "mount_file_id": "1g498rVavdSh5utK4SNjeBuzi6CsS4DW6",
      "authorship_tag": "ABX9TyOo2V/3MZKzCxmeBoTDt9aX",
      "include_colab_link": true
    },
    "kernelspec": {
      "name": "python3",
      "display_name": "Python 3"
    },
    "language_info": {
      "name": "python"
    }
  },
  "cells": [
    {
      "cell_type": "markdown",
      "metadata": {
        "id": "view-in-github",
        "colab_type": "text"
      },
      "source": [
        "<a href=\"https://colab.research.google.com/github/arthur422tp/arthur422/blob/master/%E7%B6%B2%E8%B7%AF%E6%84%8F%E8%B1%A1%E5%88%86%E6%9E%90%E4%B8%AD%E8%81%B7%E5%95%A6%E5%95%A6%E9%9A%8A%E8%A1%8C%E9%8A%B7%E7%AD%96%E7%95%A5.ipynb\" target=\"_parent\"><img src=\"https://colab.research.google.com/assets/colab-badge.svg\" alt=\"Open In Colab\"/></a>"
      ]
    },
    {
      "cell_type": "code",
      "execution_count": null,
      "metadata": {
        "id": "hGI7c9aUe5JK",
        "colab": {
          "base_uri": "https://localhost:8080/"
        },
        "outputId": "793d70b4-764b-4fb2-c5c4-125e9d7cc6e4"
      },
      "outputs": [
        {
          "output_type": "stream",
          "name": "stdout",
          "text": [
            "Looking in indexes: https://pypi.org/simple, https://us-python.pkg.dev/colab-wheels/public/simple/\n",
            "Requirement already satisfied: statsmodels in /usr/local/lib/python3.10/dist-packages (0.13.5)\n",
            "Requirement already satisfied: pandas>=0.25 in /usr/local/lib/python3.10/dist-packages (from statsmodels) (1.5.3)\n",
            "Requirement already satisfied: patsy>=0.5.2 in /usr/local/lib/python3.10/dist-packages (from statsmodels) (0.5.3)\n",
            "Requirement already satisfied: packaging>=21.3 in /usr/local/lib/python3.10/dist-packages (from statsmodels) (23.1)\n",
            "Requirement already satisfied: scipy>=1.3 in /usr/local/lib/python3.10/dist-packages (from statsmodels) (1.10.1)\n",
            "Requirement already satisfied: numpy>=1.17 in /usr/local/lib/python3.10/dist-packages (from statsmodels) (1.22.4)\n",
            "Requirement already satisfied: python-dateutil>=2.8.1 in /usr/local/lib/python3.10/dist-packages (from pandas>=0.25->statsmodels) (2.8.2)\n",
            "Requirement already satisfied: pytz>=2020.1 in /usr/local/lib/python3.10/dist-packages (from pandas>=0.25->statsmodels) (2022.7.1)\n",
            "Requirement already satisfied: six in /usr/local/lib/python3.10/dist-packages (from patsy>=0.5.2->statsmodels) (1.16.0)\n"
          ]
        }
      ],
      "source": [
        "import requests\n",
        "import bs4\n",
        "import pandas as pd\n",
        "from sklearn import linear_model\n",
        "import numpy as np\n",
        "import sklearn.preprocessing\n",
        "!pip install statsmodels"
      ]
    },
    {
      "cell_type": "markdown",
      "source": [
        "#資料整理"
      ],
      "metadata": {
        "id": "ZBxosi54bBT5"
      }
    },
    {
      "cell_type": "code",
      "source": [
        "from google.colab import drive\n",
        "drive.mount('/content/drive')"
      ],
      "metadata": {
        "colab": {
          "base_uri": "https://localhost:8080/"
        },
        "id": "z7LAqwn-BEt_",
        "outputId": "da24919d-49f1-4de6-b26d-badf13b35805"
      },
      "execution_count": null,
      "outputs": [
        {
          "output_type": "stream",
          "name": "stdout",
          "text": [
            "Drive already mounted at /content/drive; to attempt to forcibly remount, call drive.mount(\"/content/drive\", force_remount=True).\n"
          ]
        }
      ]
    },
    {
      "cell_type": "code",
      "source": [
        "data_1 = pd.read_excel('/content/drive/MyDrive/桃園樂天.xlsx')\n",
        "data_2 = pd.read_excel('/content/drive/MyDrive/桃園樂天.xlsx',sheet_name= '工作表2')\n",
        "data_combine = pd.read_excel('/content/drive/MyDrive/桃園樂天.xlsx',sheet_name= '工作表4')\n"
      ],
      "metadata": {
        "id": "3WKBFyuSgT9n"
      },
      "execution_count": null,
      "outputs": []
    },
    {
      "cell_type": "code",
      "source": [
        "df_frame_1 = pd.DataFrame(data_1)\n",
        "df_frame_2 = pd.DataFrame(data_2)\n",
        "df_frame_data = pd.DataFrame(data_combine)"
      ],
      "metadata": {
        "id": "IX15UbKA3Oo5"
      },
      "execution_count": null,
      "outputs": []
    },
    {
      "cell_type": "code",
      "source": [
        "df_frame_data"
      ],
      "metadata": {
        "id": "7B83Q--OsvM_",
        "colab": {
          "base_uri": "https://localhost:8080/",
          "height": 424
        },
        "outputId": "2717714d-075d-4287-8e8c-540d74405d93"
      },
      "execution_count": null,
      "outputs": [
        {
          "output_type": "execute_result",
          "data": {
            "text/plain": [
              "      場次         日期   星期  球場        客隊(全壘打)(失誤) 主隊(全壘打)(失誤)   觀眾人數  襄  苡  妲  \\\n",
              "0     16 2021-03-23  (二)  桃園          味全龍(1)(0)  樂天桃猿(0)(1)   7884  1  1  0   \n",
              "1     20 2021-03-25  (四)  桃園  統一7-ELEVEn獅(0)(3)  樂天桃猿(0)(1)   3992  0  0  1   \n",
              "2     27 2021-03-30  (二)  桃園          味全龍(0)(0)  樂天桃猿(0)(0)   3694  0  0  1   \n",
              "3     29 2021-03-31  (三)  桃園          味全龍(1)(3)  樂天桃猿(0)(1)   3631  0  0  0   \n",
              "4     31 2021-04-01  (四)  桃園  統一7-ELEVEn獅(0)(0)  樂天桃猿(0)(2)   6156  0  1  1   \n",
              "..   ...        ...  ...  ..                ...         ...    ... .. .. ..   \n",
              "103  298 2022-10-14  (五)  桃園          味全龍(0)(3)  樂天桃猿(0)(0)   6894  0  0  0   \n",
              "104  222 2022-10-20  (四)  桃園  統一7-ELEVEn獅(0)(0)  樂天桃猿(1)(0)   4842  1  0  0   \n",
              "105  153 2022-10-22  (六)  桃園          味全龍(0)(1)  樂天桃猿(0)(1)  10551  0  1  0   \n",
              "106  155 2022-10-23  (日)  桃園         中信兄弟(2)(0)  樂天桃猿(1)(0)  10502  0  1  0   \n",
              "107  299 2022-10-25  (二)  桃園         富邦悍將(0)(0)  樂天桃猿(0)(0)   5114  0  0  1   \n",
              "\n",
              "     叡                                                 女孩      滿場率  主題日  \\\n",
              "0    0  3/23   曲  倪 鹿       卉 苡   籃   孟     菲 筠   伊襄紫霓...  0.39420    1   \n",
              "1    1  3/25     慧倪 鹿妲   舞      璐籃 凱孟 潼叡   筠宣         ...  0.19960    1   \n",
              "2    0  3/30 沐    倪 鹿妲 芯舞卉    璐     孟 潼     筠   伊  紫  ...  0.18470    1   \n",
              "3    1  3/31     慧   鹿   芯舞卉         凱   潼叡菲 筠宣 伊  紫  ...  0.18155    1   \n",
              "4    0  4/1  沐曲慧倪 鹿妲 芯舞   苡      凱孟     菲 筠           ...  0.30780    1   \n",
              "..  ..                                                ...      ...  ...   \n",
              "103  1  10/14  慧倪 縈     舞              潼叡菲 筠 伊      樂 ...  0.34470    0   \n",
              "104  0  10/20曲慧倪        舞                  菲 筠 伊襄紫霓樂  ...  0.24210    0   \n",
              "105  1  10/22曲慧倪 縈     舞   苡    凱孟 潼叡菲 筠     紫  樂     ...  0.52755    1   \n",
              "106  0  10/23曲慧倪 縈   芯舞卉 苡    凱          筠 伊    霓樂    ...  0.52510    0   \n",
              "107  0  10/25曲  倪 縈妲 芯舞卉    籃 凱       菲 筠       霓樂    ...  0.25570    1   \n",
              "\n",
              "     Unnamed: 14  Unnamed: 15  Unnamed: 16  \n",
              "0            NaN          NaN          NaN  \n",
              "1            NaN          NaN          NaN  \n",
              "2            NaN          NaN          NaN  \n",
              "3            NaN          NaN          NaN  \n",
              "4            NaN          NaN          NaN  \n",
              "..           ...          ...          ...  \n",
              "103          NaN          NaN          NaN  \n",
              "104          NaN          NaN          NaN  \n",
              "105          NaN          NaN          NaN  \n",
              "106          NaN          NaN          NaN  \n",
              "107          NaN          NaN          NaN  \n",
              "\n",
              "[108 rows x 17 columns]"
            ],
            "text/html": [
              "\n",
              "  <div id=\"df-b56a8e8e-4d24-4520-b012-b8a7644521f5\">\n",
              "    <div class=\"colab-df-container\">\n",
              "      <div>\n",
              "<style scoped>\n",
              "    .dataframe tbody tr th:only-of-type {\n",
              "        vertical-align: middle;\n",
              "    }\n",
              "\n",
              "    .dataframe tbody tr th {\n",
              "        vertical-align: top;\n",
              "    }\n",
              "\n",
              "    .dataframe thead th {\n",
              "        text-align: right;\n",
              "    }\n",
              "</style>\n",
              "<table border=\"1\" class=\"dataframe\">\n",
              "  <thead>\n",
              "    <tr style=\"text-align: right;\">\n",
              "      <th></th>\n",
              "      <th>場次</th>\n",
              "      <th>日期</th>\n",
              "      <th>星期</th>\n",
              "      <th>球場</th>\n",
              "      <th>客隊(全壘打)(失誤)</th>\n",
              "      <th>主隊(全壘打)(失誤)</th>\n",
              "      <th>觀眾人數</th>\n",
              "      <th>襄</th>\n",
              "      <th>苡</th>\n",
              "      <th>妲</th>\n",
              "      <th>叡</th>\n",
              "      <th>女孩</th>\n",
              "      <th>滿場率</th>\n",
              "      <th>主題日</th>\n",
              "      <th>Unnamed: 14</th>\n",
              "      <th>Unnamed: 15</th>\n",
              "      <th>Unnamed: 16</th>\n",
              "    </tr>\n",
              "  </thead>\n",
              "  <tbody>\n",
              "    <tr>\n",
              "      <th>0</th>\n",
              "      <td>16</td>\n",
              "      <td>2021-03-23</td>\n",
              "      <td>(二)</td>\n",
              "      <td>桃園</td>\n",
              "      <td>味全龍(1)(0)</td>\n",
              "      <td>樂天桃猿(0)(1)</td>\n",
              "      <td>7884</td>\n",
              "      <td>1</td>\n",
              "      <td>1</td>\n",
              "      <td>0</td>\n",
              "      <td>0</td>\n",
              "      <td>3/23   曲  倪 鹿       卉 苡   籃   孟     菲 筠   伊襄紫霓...</td>\n",
              "      <td>0.39420</td>\n",
              "      <td>1</td>\n",
              "      <td>NaN</td>\n",
              "      <td>NaN</td>\n",
              "      <td>NaN</td>\n",
              "    </tr>\n",
              "    <tr>\n",
              "      <th>1</th>\n",
              "      <td>20</td>\n",
              "      <td>2021-03-25</td>\n",
              "      <td>(四)</td>\n",
              "      <td>桃園</td>\n",
              "      <td>統一7-ELEVEn獅(0)(3)</td>\n",
              "      <td>樂天桃猿(0)(1)</td>\n",
              "      <td>3992</td>\n",
              "      <td>0</td>\n",
              "      <td>0</td>\n",
              "      <td>1</td>\n",
              "      <td>1</td>\n",
              "      <td>3/25     慧倪 鹿妲   舞      璐籃 凱孟 潼叡   筠宣         ...</td>\n",
              "      <td>0.19960</td>\n",
              "      <td>1</td>\n",
              "      <td>NaN</td>\n",
              "      <td>NaN</td>\n",
              "      <td>NaN</td>\n",
              "    </tr>\n",
              "    <tr>\n",
              "      <th>2</th>\n",
              "      <td>27</td>\n",
              "      <td>2021-03-30</td>\n",
              "      <td>(二)</td>\n",
              "      <td>桃園</td>\n",
              "      <td>味全龍(0)(0)</td>\n",
              "      <td>樂天桃猿(0)(0)</td>\n",
              "      <td>3694</td>\n",
              "      <td>0</td>\n",
              "      <td>0</td>\n",
              "      <td>1</td>\n",
              "      <td>0</td>\n",
              "      <td>3/30 沐    倪 鹿妲 芯舞卉    璐     孟 潼     筠   伊  紫  ...</td>\n",
              "      <td>0.18470</td>\n",
              "      <td>1</td>\n",
              "      <td>NaN</td>\n",
              "      <td>NaN</td>\n",
              "      <td>NaN</td>\n",
              "    </tr>\n",
              "    <tr>\n",
              "      <th>3</th>\n",
              "      <td>29</td>\n",
              "      <td>2021-03-31</td>\n",
              "      <td>(三)</td>\n",
              "      <td>桃園</td>\n",
              "      <td>味全龍(1)(3)</td>\n",
              "      <td>樂天桃猿(0)(1)</td>\n",
              "      <td>3631</td>\n",
              "      <td>0</td>\n",
              "      <td>0</td>\n",
              "      <td>0</td>\n",
              "      <td>1</td>\n",
              "      <td>3/31     慧   鹿   芯舞卉         凱   潼叡菲 筠宣 伊  紫  ...</td>\n",
              "      <td>0.18155</td>\n",
              "      <td>1</td>\n",
              "      <td>NaN</td>\n",
              "      <td>NaN</td>\n",
              "      <td>NaN</td>\n",
              "    </tr>\n",
              "    <tr>\n",
              "      <th>4</th>\n",
              "      <td>31</td>\n",
              "      <td>2021-04-01</td>\n",
              "      <td>(四)</td>\n",
              "      <td>桃園</td>\n",
              "      <td>統一7-ELEVEn獅(0)(0)</td>\n",
              "      <td>樂天桃猿(0)(2)</td>\n",
              "      <td>6156</td>\n",
              "      <td>0</td>\n",
              "      <td>1</td>\n",
              "      <td>1</td>\n",
              "      <td>0</td>\n",
              "      <td>4/1  沐曲慧倪 鹿妲 芯舞   苡      凱孟     菲 筠           ...</td>\n",
              "      <td>0.30780</td>\n",
              "      <td>1</td>\n",
              "      <td>NaN</td>\n",
              "      <td>NaN</td>\n",
              "      <td>NaN</td>\n",
              "    </tr>\n",
              "    <tr>\n",
              "      <th>...</th>\n",
              "      <td>...</td>\n",
              "      <td>...</td>\n",
              "      <td>...</td>\n",
              "      <td>...</td>\n",
              "      <td>...</td>\n",
              "      <td>...</td>\n",
              "      <td>...</td>\n",
              "      <td>...</td>\n",
              "      <td>...</td>\n",
              "      <td>...</td>\n",
              "      <td>...</td>\n",
              "      <td>...</td>\n",
              "      <td>...</td>\n",
              "      <td>...</td>\n",
              "      <td>...</td>\n",
              "      <td>...</td>\n",
              "      <td>...</td>\n",
              "    </tr>\n",
              "    <tr>\n",
              "      <th>103</th>\n",
              "      <td>298</td>\n",
              "      <td>2022-10-14</td>\n",
              "      <td>(五)</td>\n",
              "      <td>桃園</td>\n",
              "      <td>味全龍(0)(3)</td>\n",
              "      <td>樂天桃猿(0)(0)</td>\n",
              "      <td>6894</td>\n",
              "      <td>0</td>\n",
              "      <td>0</td>\n",
              "      <td>0</td>\n",
              "      <td>1</td>\n",
              "      <td>10/14  慧倪 縈     舞              潼叡菲 筠 伊      樂 ...</td>\n",
              "      <td>0.34470</td>\n",
              "      <td>0</td>\n",
              "      <td>NaN</td>\n",
              "      <td>NaN</td>\n",
              "      <td>NaN</td>\n",
              "    </tr>\n",
              "    <tr>\n",
              "      <th>104</th>\n",
              "      <td>222</td>\n",
              "      <td>2022-10-20</td>\n",
              "      <td>(四)</td>\n",
              "      <td>桃園</td>\n",
              "      <td>統一7-ELEVEn獅(0)(0)</td>\n",
              "      <td>樂天桃猿(1)(0)</td>\n",
              "      <td>4842</td>\n",
              "      <td>1</td>\n",
              "      <td>0</td>\n",
              "      <td>0</td>\n",
              "      <td>0</td>\n",
              "      <td>10/20曲慧倪        舞                  菲 筠 伊襄紫霓樂  ...</td>\n",
              "      <td>0.24210</td>\n",
              "      <td>0</td>\n",
              "      <td>NaN</td>\n",
              "      <td>NaN</td>\n",
              "      <td>NaN</td>\n",
              "    </tr>\n",
              "    <tr>\n",
              "      <th>105</th>\n",
              "      <td>153</td>\n",
              "      <td>2022-10-22</td>\n",
              "      <td>(六)</td>\n",
              "      <td>桃園</td>\n",
              "      <td>味全龍(0)(1)</td>\n",
              "      <td>樂天桃猿(0)(1)</td>\n",
              "      <td>10551</td>\n",
              "      <td>0</td>\n",
              "      <td>1</td>\n",
              "      <td>0</td>\n",
              "      <td>1</td>\n",
              "      <td>10/22曲慧倪 縈     舞   苡    凱孟 潼叡菲 筠     紫  樂     ...</td>\n",
              "      <td>0.52755</td>\n",
              "      <td>1</td>\n",
              "      <td>NaN</td>\n",
              "      <td>NaN</td>\n",
              "      <td>NaN</td>\n",
              "    </tr>\n",
              "    <tr>\n",
              "      <th>106</th>\n",
              "      <td>155</td>\n",
              "      <td>2022-10-23</td>\n",
              "      <td>(日)</td>\n",
              "      <td>桃園</td>\n",
              "      <td>中信兄弟(2)(0)</td>\n",
              "      <td>樂天桃猿(1)(0)</td>\n",
              "      <td>10502</td>\n",
              "      <td>0</td>\n",
              "      <td>1</td>\n",
              "      <td>0</td>\n",
              "      <td>0</td>\n",
              "      <td>10/23曲慧倪 縈   芯舞卉 苡    凱          筠 伊    霓樂    ...</td>\n",
              "      <td>0.52510</td>\n",
              "      <td>0</td>\n",
              "      <td>NaN</td>\n",
              "      <td>NaN</td>\n",
              "      <td>NaN</td>\n",
              "    </tr>\n",
              "    <tr>\n",
              "      <th>107</th>\n",
              "      <td>299</td>\n",
              "      <td>2022-10-25</td>\n",
              "      <td>(二)</td>\n",
              "      <td>桃園</td>\n",
              "      <td>富邦悍將(0)(0)</td>\n",
              "      <td>樂天桃猿(0)(0)</td>\n",
              "      <td>5114</td>\n",
              "      <td>0</td>\n",
              "      <td>0</td>\n",
              "      <td>1</td>\n",
              "      <td>0</td>\n",
              "      <td>10/25曲  倪 縈妲 芯舞卉    籃 凱       菲 筠       霓樂    ...</td>\n",
              "      <td>0.25570</td>\n",
              "      <td>1</td>\n",
              "      <td>NaN</td>\n",
              "      <td>NaN</td>\n",
              "      <td>NaN</td>\n",
              "    </tr>\n",
              "  </tbody>\n",
              "</table>\n",
              "<p>108 rows × 17 columns</p>\n",
              "</div>\n",
              "      <button class=\"colab-df-convert\" onclick=\"convertToInteractive('df-b56a8e8e-4d24-4520-b012-b8a7644521f5')\"\n",
              "              title=\"Convert this dataframe to an interactive table.\"\n",
              "              style=\"display:none;\">\n",
              "        \n",
              "  <svg xmlns=\"http://www.w3.org/2000/svg\" height=\"24px\"viewBox=\"0 0 24 24\"\n",
              "       width=\"24px\">\n",
              "    <path d=\"M0 0h24v24H0V0z\" fill=\"none\"/>\n",
              "    <path d=\"M18.56 5.44l.94 2.06.94-2.06 2.06-.94-2.06-.94-.94-2.06-.94 2.06-2.06.94zm-11 1L8.5 8.5l.94-2.06 2.06-.94-2.06-.94L8.5 2.5l-.94 2.06-2.06.94zm10 10l.94 2.06.94-2.06 2.06-.94-2.06-.94-.94-2.06-.94 2.06-2.06.94z\"/><path d=\"M17.41 7.96l-1.37-1.37c-.4-.4-.92-.59-1.43-.59-.52 0-1.04.2-1.43.59L10.3 9.45l-7.72 7.72c-.78.78-.78 2.05 0 2.83L4 21.41c.39.39.9.59 1.41.59.51 0 1.02-.2 1.41-.59l7.78-7.78 2.81-2.81c.8-.78.8-2.07 0-2.86zM5.41 20L4 18.59l7.72-7.72 1.47 1.35L5.41 20z\"/>\n",
              "  </svg>\n",
              "      </button>\n",
              "      \n",
              "  <style>\n",
              "    .colab-df-container {\n",
              "      display:flex;\n",
              "      flex-wrap:wrap;\n",
              "      gap: 12px;\n",
              "    }\n",
              "\n",
              "    .colab-df-convert {\n",
              "      background-color: #E8F0FE;\n",
              "      border: none;\n",
              "      border-radius: 50%;\n",
              "      cursor: pointer;\n",
              "      display: none;\n",
              "      fill: #1967D2;\n",
              "      height: 32px;\n",
              "      padding: 0 0 0 0;\n",
              "      width: 32px;\n",
              "    }\n",
              "\n",
              "    .colab-df-convert:hover {\n",
              "      background-color: #E2EBFA;\n",
              "      box-shadow: 0px 1px 2px rgba(60, 64, 67, 0.3), 0px 1px 3px 1px rgba(60, 64, 67, 0.15);\n",
              "      fill: #174EA6;\n",
              "    }\n",
              "\n",
              "    [theme=dark] .colab-df-convert {\n",
              "      background-color: #3B4455;\n",
              "      fill: #D2E3FC;\n",
              "    }\n",
              "\n",
              "    [theme=dark] .colab-df-convert:hover {\n",
              "      background-color: #434B5C;\n",
              "      box-shadow: 0px 1px 3px 1px rgba(0, 0, 0, 0.15);\n",
              "      filter: drop-shadow(0px 1px 2px rgba(0, 0, 0, 0.3));\n",
              "      fill: #FFFFFF;\n",
              "    }\n",
              "  </style>\n",
              "\n",
              "      <script>\n",
              "        const buttonEl =\n",
              "          document.querySelector('#df-b56a8e8e-4d24-4520-b012-b8a7644521f5 button.colab-df-convert');\n",
              "        buttonEl.style.display =\n",
              "          google.colab.kernel.accessAllowed ? 'block' : 'none';\n",
              "\n",
              "        async function convertToInteractive(key) {\n",
              "          const element = document.querySelector('#df-b56a8e8e-4d24-4520-b012-b8a7644521f5');\n",
              "          const dataTable =\n",
              "            await google.colab.kernel.invokeFunction('convertToInteractive',\n",
              "                                                     [key], {});\n",
              "          if (!dataTable) return;\n",
              "\n",
              "          const docLinkHtml = 'Like what you see? Visit the ' +\n",
              "            '<a target=\"_blank\" href=https://colab.research.google.com/notebooks/data_table.ipynb>data table notebook</a>'\n",
              "            + ' to learn more about interactive tables.';\n",
              "          element.innerHTML = '';\n",
              "          dataTable['output_type'] = 'display_data';\n",
              "          await google.colab.output.renderOutput(dataTable, element);\n",
              "          const docLink = document.createElement('div');\n",
              "          docLink.innerHTML = docLinkHtml;\n",
              "          element.appendChild(docLink);\n",
              "        }\n",
              "      </script>\n",
              "    </div>\n",
              "  </div>\n",
              "  "
            ]
          },
          "metadata": {},
          "execution_count": 340
        }
      ]
    },
    {
      "cell_type": "code",
      "source": [
        "from sklearn.linear_model import LogisticRegression"
      ],
      "metadata": {
        "id": "fJgtLEjDgaRQ"
      },
      "execution_count": null,
      "outputs": []
    },
    {
      "cell_type": "code",
      "source": [
        "interest_columns = ['襄', '苡', '妲', '叡', '主題日']\n",
        "X1 = df_frame_1[interest_columns]\n",
        "X2 = df_frame_2[interest_columns]\n",
        "X = df_frame_data[interest_columns]"
      ],
      "metadata": {
        "id": "NHkhpsBRD5jU"
      },
      "execution_count": null,
      "outputs": []
    },
    {
      "cell_type": "code",
      "source": [
        "Y1 = df_frame_1[['觀眾人數']]\n",
        "Y2 = df_frame_2[['觀眾人數']]\n",
        "Y = df_frame_data[['觀眾人數']]"
      ],
      "metadata": {
        "id": "W4uVomhpehpY"
      },
      "execution_count": null,
      "outputs": []
    },
    {
      "cell_type": "code",
      "source": [
        "Y1.describe()"
      ],
      "metadata": {
        "colab": {
          "base_uri": "https://localhost:8080/",
          "height": 300
        },
        "id": "ofmL20M9yW60",
        "outputId": "44274df7-dce3-4ee0-ad74-0fb373050b7b"
      },
      "execution_count": null,
      "outputs": [
        {
          "output_type": "execute_result",
          "data": {
            "text/plain": [
              "               觀眾人數\n",
              "count     48.000000\n",
              "mean    4049.145833\n",
              "std     2459.114371\n",
              "min     1211.000000\n",
              "25%     2223.250000\n",
              "50%     3346.000000\n",
              "75%     5548.750000\n",
              "max    11513.000000"
            ],
            "text/html": [
              "\n",
              "  <div id=\"df-8fe5960d-32e2-4944-b2c6-8d9d0bf6b4d1\">\n",
              "    <div class=\"colab-df-container\">\n",
              "      <div>\n",
              "<style scoped>\n",
              "    .dataframe tbody tr th:only-of-type {\n",
              "        vertical-align: middle;\n",
              "    }\n",
              "\n",
              "    .dataframe tbody tr th {\n",
              "        vertical-align: top;\n",
              "    }\n",
              "\n",
              "    .dataframe thead th {\n",
              "        text-align: right;\n",
              "    }\n",
              "</style>\n",
              "<table border=\"1\" class=\"dataframe\">\n",
              "  <thead>\n",
              "    <tr style=\"text-align: right;\">\n",
              "      <th></th>\n",
              "      <th>觀眾人數</th>\n",
              "    </tr>\n",
              "  </thead>\n",
              "  <tbody>\n",
              "    <tr>\n",
              "      <th>count</th>\n",
              "      <td>48.000000</td>\n",
              "    </tr>\n",
              "    <tr>\n",
              "      <th>mean</th>\n",
              "      <td>4049.145833</td>\n",
              "    </tr>\n",
              "    <tr>\n",
              "      <th>std</th>\n",
              "      <td>2459.114371</td>\n",
              "    </tr>\n",
              "    <tr>\n",
              "      <th>min</th>\n",
              "      <td>1211.000000</td>\n",
              "    </tr>\n",
              "    <tr>\n",
              "      <th>25%</th>\n",
              "      <td>2223.250000</td>\n",
              "    </tr>\n",
              "    <tr>\n",
              "      <th>50%</th>\n",
              "      <td>3346.000000</td>\n",
              "    </tr>\n",
              "    <tr>\n",
              "      <th>75%</th>\n",
              "      <td>5548.750000</td>\n",
              "    </tr>\n",
              "    <tr>\n",
              "      <th>max</th>\n",
              "      <td>11513.000000</td>\n",
              "    </tr>\n",
              "  </tbody>\n",
              "</table>\n",
              "</div>\n",
              "      <button class=\"colab-df-convert\" onclick=\"convertToInteractive('df-8fe5960d-32e2-4944-b2c6-8d9d0bf6b4d1')\"\n",
              "              title=\"Convert this dataframe to an interactive table.\"\n",
              "              style=\"display:none;\">\n",
              "        \n",
              "  <svg xmlns=\"http://www.w3.org/2000/svg\" height=\"24px\"viewBox=\"0 0 24 24\"\n",
              "       width=\"24px\">\n",
              "    <path d=\"M0 0h24v24H0V0z\" fill=\"none\"/>\n",
              "    <path d=\"M18.56 5.44l.94 2.06.94-2.06 2.06-.94-2.06-.94-.94-2.06-.94 2.06-2.06.94zm-11 1L8.5 8.5l.94-2.06 2.06-.94-2.06-.94L8.5 2.5l-.94 2.06-2.06.94zm10 10l.94 2.06.94-2.06 2.06-.94-2.06-.94-.94-2.06-.94 2.06-2.06.94z\"/><path d=\"M17.41 7.96l-1.37-1.37c-.4-.4-.92-.59-1.43-.59-.52 0-1.04.2-1.43.59L10.3 9.45l-7.72 7.72c-.78.78-.78 2.05 0 2.83L4 21.41c.39.39.9.59 1.41.59.51 0 1.02-.2 1.41-.59l7.78-7.78 2.81-2.81c.8-.78.8-2.07 0-2.86zM5.41 20L4 18.59l7.72-7.72 1.47 1.35L5.41 20z\"/>\n",
              "  </svg>\n",
              "      </button>\n",
              "      \n",
              "  <style>\n",
              "    .colab-df-container {\n",
              "      display:flex;\n",
              "      flex-wrap:wrap;\n",
              "      gap: 12px;\n",
              "    }\n",
              "\n",
              "    .colab-df-convert {\n",
              "      background-color: #E8F0FE;\n",
              "      border: none;\n",
              "      border-radius: 50%;\n",
              "      cursor: pointer;\n",
              "      display: none;\n",
              "      fill: #1967D2;\n",
              "      height: 32px;\n",
              "      padding: 0 0 0 0;\n",
              "      width: 32px;\n",
              "    }\n",
              "\n",
              "    .colab-df-convert:hover {\n",
              "      background-color: #E2EBFA;\n",
              "      box-shadow: 0px 1px 2px rgba(60, 64, 67, 0.3), 0px 1px 3px 1px rgba(60, 64, 67, 0.15);\n",
              "      fill: #174EA6;\n",
              "    }\n",
              "\n",
              "    [theme=dark] .colab-df-convert {\n",
              "      background-color: #3B4455;\n",
              "      fill: #D2E3FC;\n",
              "    }\n",
              "\n",
              "    [theme=dark] .colab-df-convert:hover {\n",
              "      background-color: #434B5C;\n",
              "      box-shadow: 0px 1px 3px 1px rgba(0, 0, 0, 0.15);\n",
              "      filter: drop-shadow(0px 1px 2px rgba(0, 0, 0, 0.3));\n",
              "      fill: #FFFFFF;\n",
              "    }\n",
              "  </style>\n",
              "\n",
              "      <script>\n",
              "        const buttonEl =\n",
              "          document.querySelector('#df-8fe5960d-32e2-4944-b2c6-8d9d0bf6b4d1 button.colab-df-convert');\n",
              "        buttonEl.style.display =\n",
              "          google.colab.kernel.accessAllowed ? 'block' : 'none';\n",
              "\n",
              "        async function convertToInteractive(key) {\n",
              "          const element = document.querySelector('#df-8fe5960d-32e2-4944-b2c6-8d9d0bf6b4d1');\n",
              "          const dataTable =\n",
              "            await google.colab.kernel.invokeFunction('convertToInteractive',\n",
              "                                                     [key], {});\n",
              "          if (!dataTable) return;\n",
              "\n",
              "          const docLinkHtml = 'Like what you see? Visit the ' +\n",
              "            '<a target=\"_blank\" href=https://colab.research.google.com/notebooks/data_table.ipynb>data table notebook</a>'\n",
              "            + ' to learn more about interactive tables.';\n",
              "          element.innerHTML = '';\n",
              "          dataTable['output_type'] = 'display_data';\n",
              "          await google.colab.output.renderOutput(dataTable, element);\n",
              "          const docLink = document.createElement('div');\n",
              "          docLink.innerHTML = docLinkHtml;\n",
              "          element.appendChild(docLink);\n",
              "        }\n",
              "      </script>\n",
              "    </div>\n",
              "  </div>\n",
              "  "
            ]
          },
          "metadata": {},
          "execution_count": 344
        }
      ]
    },
    {
      "cell_type": "code",
      "source": [
        "Y2.describe()"
      ],
      "metadata": {
        "colab": {
          "base_uri": "https://localhost:8080/",
          "height": 300
        },
        "id": "SXaD0Ul2zA7u",
        "outputId": "356c93fa-fdee-4b11-9103-e6913a335426"
      },
      "execution_count": null,
      "outputs": [
        {
          "output_type": "execute_result",
          "data": {
            "text/plain": [
              "               觀眾人數\n",
              "count     60.000000\n",
              "mean    6681.766667\n",
              "std     2586.025380\n",
              "min     3038.000000\n",
              "25%     4696.750000\n",
              "50%     6118.000000\n",
              "75%     8696.500000\n",
              "max    13169.000000"
            ],
            "text/html": [
              "\n",
              "  <div id=\"df-9b17fdf7-938f-440e-8096-63c4d591d83b\">\n",
              "    <div class=\"colab-df-container\">\n",
              "      <div>\n",
              "<style scoped>\n",
              "    .dataframe tbody tr th:only-of-type {\n",
              "        vertical-align: middle;\n",
              "    }\n",
              "\n",
              "    .dataframe tbody tr th {\n",
              "        vertical-align: top;\n",
              "    }\n",
              "\n",
              "    .dataframe thead th {\n",
              "        text-align: right;\n",
              "    }\n",
              "</style>\n",
              "<table border=\"1\" class=\"dataframe\">\n",
              "  <thead>\n",
              "    <tr style=\"text-align: right;\">\n",
              "      <th></th>\n",
              "      <th>觀眾人數</th>\n",
              "    </tr>\n",
              "  </thead>\n",
              "  <tbody>\n",
              "    <tr>\n",
              "      <th>count</th>\n",
              "      <td>60.000000</td>\n",
              "    </tr>\n",
              "    <tr>\n",
              "      <th>mean</th>\n",
              "      <td>6681.766667</td>\n",
              "    </tr>\n",
              "    <tr>\n",
              "      <th>std</th>\n",
              "      <td>2586.025380</td>\n",
              "    </tr>\n",
              "    <tr>\n",
              "      <th>min</th>\n",
              "      <td>3038.000000</td>\n",
              "    </tr>\n",
              "    <tr>\n",
              "      <th>25%</th>\n",
              "      <td>4696.750000</td>\n",
              "    </tr>\n",
              "    <tr>\n",
              "      <th>50%</th>\n",
              "      <td>6118.000000</td>\n",
              "    </tr>\n",
              "    <tr>\n",
              "      <th>75%</th>\n",
              "      <td>8696.500000</td>\n",
              "    </tr>\n",
              "    <tr>\n",
              "      <th>max</th>\n",
              "      <td>13169.000000</td>\n",
              "    </tr>\n",
              "  </tbody>\n",
              "</table>\n",
              "</div>\n",
              "      <button class=\"colab-df-convert\" onclick=\"convertToInteractive('df-9b17fdf7-938f-440e-8096-63c4d591d83b')\"\n",
              "              title=\"Convert this dataframe to an interactive table.\"\n",
              "              style=\"display:none;\">\n",
              "        \n",
              "  <svg xmlns=\"http://www.w3.org/2000/svg\" height=\"24px\"viewBox=\"0 0 24 24\"\n",
              "       width=\"24px\">\n",
              "    <path d=\"M0 0h24v24H0V0z\" fill=\"none\"/>\n",
              "    <path d=\"M18.56 5.44l.94 2.06.94-2.06 2.06-.94-2.06-.94-.94-2.06-.94 2.06-2.06.94zm-11 1L8.5 8.5l.94-2.06 2.06-.94-2.06-.94L8.5 2.5l-.94 2.06-2.06.94zm10 10l.94 2.06.94-2.06 2.06-.94-2.06-.94-.94-2.06-.94 2.06-2.06.94z\"/><path d=\"M17.41 7.96l-1.37-1.37c-.4-.4-.92-.59-1.43-.59-.52 0-1.04.2-1.43.59L10.3 9.45l-7.72 7.72c-.78.78-.78 2.05 0 2.83L4 21.41c.39.39.9.59 1.41.59.51 0 1.02-.2 1.41-.59l7.78-7.78 2.81-2.81c.8-.78.8-2.07 0-2.86zM5.41 20L4 18.59l7.72-7.72 1.47 1.35L5.41 20z\"/>\n",
              "  </svg>\n",
              "      </button>\n",
              "      \n",
              "  <style>\n",
              "    .colab-df-container {\n",
              "      display:flex;\n",
              "      flex-wrap:wrap;\n",
              "      gap: 12px;\n",
              "    }\n",
              "\n",
              "    .colab-df-convert {\n",
              "      background-color: #E8F0FE;\n",
              "      border: none;\n",
              "      border-radius: 50%;\n",
              "      cursor: pointer;\n",
              "      display: none;\n",
              "      fill: #1967D2;\n",
              "      height: 32px;\n",
              "      padding: 0 0 0 0;\n",
              "      width: 32px;\n",
              "    }\n",
              "\n",
              "    .colab-df-convert:hover {\n",
              "      background-color: #E2EBFA;\n",
              "      box-shadow: 0px 1px 2px rgba(60, 64, 67, 0.3), 0px 1px 3px 1px rgba(60, 64, 67, 0.15);\n",
              "      fill: #174EA6;\n",
              "    }\n",
              "\n",
              "    [theme=dark] .colab-df-convert {\n",
              "      background-color: #3B4455;\n",
              "      fill: #D2E3FC;\n",
              "    }\n",
              "\n",
              "    [theme=dark] .colab-df-convert:hover {\n",
              "      background-color: #434B5C;\n",
              "      box-shadow: 0px 1px 3px 1px rgba(0, 0, 0, 0.15);\n",
              "      filter: drop-shadow(0px 1px 2px rgba(0, 0, 0, 0.3));\n",
              "      fill: #FFFFFF;\n",
              "    }\n",
              "  </style>\n",
              "\n",
              "      <script>\n",
              "        const buttonEl =\n",
              "          document.querySelector('#df-9b17fdf7-938f-440e-8096-63c4d591d83b button.colab-df-convert');\n",
              "        buttonEl.style.display =\n",
              "          google.colab.kernel.accessAllowed ? 'block' : 'none';\n",
              "\n",
              "        async function convertToInteractive(key) {\n",
              "          const element = document.querySelector('#df-9b17fdf7-938f-440e-8096-63c4d591d83b');\n",
              "          const dataTable =\n",
              "            await google.colab.kernel.invokeFunction('convertToInteractive',\n",
              "                                                     [key], {});\n",
              "          if (!dataTable) return;\n",
              "\n",
              "          const docLinkHtml = 'Like what you see? Visit the ' +\n",
              "            '<a target=\"_blank\" href=https://colab.research.google.com/notebooks/data_table.ipynb>data table notebook</a>'\n",
              "            + ' to learn more about interactive tables.';\n",
              "          element.innerHTML = '';\n",
              "          dataTable['output_type'] = 'display_data';\n",
              "          await google.colab.output.renderOutput(dataTable, element);\n",
              "          const docLink = document.createElement('div');\n",
              "          docLink.innerHTML = docLinkHtml;\n",
              "          element.appendChild(docLink);\n",
              "        }\n",
              "      </script>\n",
              "    </div>\n",
              "  </div>\n",
              "  "
            ]
          },
          "metadata": {},
          "execution_count": 345
        }
      ]
    },
    {
      "cell_type": "markdown",
      "source": [
        "# 將桃猿樂天2021與2022的主場平均入場人數作為分界"
      ],
      "metadata": {
        "id": "B21SuSLmOaHP"
      }
    },
    {
      "cell_type": "code",
      "source": [
        "threshold = 4049  # 以 4049 為閾值進行二元分類\n",
        "Y1 = np.where(Y1 >= threshold, 1, 0)"
      ],
      "metadata": {
        "id": "LpGbFkDGA17b"
      },
      "execution_count": null,
      "outputs": []
    },
    {
      "cell_type": "code",
      "source": [
        "threshold = 6681  # 以 6681 為閾值進行二元分類\n",
        "Y2 = np.where(Y2 >= threshold, 1, 0)"
      ],
      "metadata": {
        "id": "7fw4F5_hBHBm"
      },
      "execution_count": null,
      "outputs": []
    },
    {
      "cell_type": "code",
      "source": [
        "Y_ = np.vstack((Y1, Y2))"
      ],
      "metadata": {
        "id": "xufzfzNFBNLA"
      },
      "execution_count": null,
      "outputs": []
    },
    {
      "cell_type": "code",
      "source": [
        "from sklearn.model_selection import train_test_split\n",
        "X_train, X_test, Y_train, Y_test = train_test_split(X, Y_, test_size=0.2, random_state=20)"
      ],
      "metadata": {
        "id": "VOmhCPv16OiP"
      },
      "execution_count": null,
      "outputs": []
    },
    {
      "cell_type": "code",
      "source": [
        "print(X_train)"
      ],
      "metadata": {
        "colab": {
          "base_uri": "https://localhost:8080/"
        },
        "id": "6C5l3L6EHS22",
        "outputId": "0bce41b6-0b29-4980-bdec-be65715bab1b"
      },
      "execution_count": null,
      "outputs": [
        {
          "output_type": "stream",
          "name": "stdout",
          "text": [
            "     襄  苡  妲  叡  主題日\n",
            "103  0  0  0  1    0\n",
            "101  1  1  1  1    1\n",
            "44   1  0  1  0    0\n",
            "39   0  1  0  1    0\n",
            "37   1  0  1  0    0\n",
            "..  .. .. .. ..  ...\n",
            "28   1  1  1  1    0\n",
            "95   0  0  0  0    0\n",
            "15   1  0  0  0    0\n",
            "90   0  1  0  0    1\n",
            "99   0  1  0  0    0\n",
            "\n",
            "[86 rows x 5 columns]\n"
          ]
        }
      ]
    },
    {
      "cell_type": "code",
      "source": [
        "print('Samples of X:', X_train[:5])\n",
        "print('Sample of Y:', Y_train[:5])"
      ],
      "metadata": {
        "colab": {
          "base_uri": "https://localhost:8080/"
        },
        "id": "GGZQuG1qf-TL",
        "outputId": "9a1de6ad-2129-4714-a55b-bccc855ee36d"
      },
      "execution_count": null,
      "outputs": [
        {
          "output_type": "stream",
          "name": "stdout",
          "text": [
            "Samples of X:      襄  苡  妲  叡  主題日\n",
            "103  0  0  0  1    0\n",
            "101  1  1  1  1    1\n",
            "44   1  0  1  0    0\n",
            "39   0  1  0  1    0\n",
            "37   1  0  1  0    0\n",
            "Sample of Y: [[1]\n",
            " [1]\n",
            " [1]\n",
            " [1]\n",
            " [0]]\n"
          ]
        }
      ]
    },
    {
      "cell_type": "code",
      "source": [
        "X_train.shape"
      ],
      "metadata": {
        "id": "bKaPRsL1g79C",
        "colab": {
          "base_uri": "https://localhost:8080/"
        },
        "outputId": "278fd37e-0658-4cbb-e88b-41112af0ae92"
      },
      "execution_count": null,
      "outputs": [
        {
          "output_type": "execute_result",
          "data": {
            "text/plain": [
              "(86, 5)"
            ]
          },
          "metadata": {},
          "execution_count": 352
        }
      ]
    },
    {
      "cell_type": "code",
      "source": [
        "Y_train.shape"
      ],
      "metadata": {
        "colab": {
          "base_uri": "https://localhost:8080/"
        },
        "id": "VopsspP8i9at",
        "outputId": "87476588-b82a-4a87-e365-d5edab02870e"
      },
      "execution_count": null,
      "outputs": [
        {
          "output_type": "execute_result",
          "data": {
            "text/plain": [
              "(86, 1)"
            ]
          },
          "metadata": {},
          "execution_count": 353
        }
      ]
    },
    {
      "cell_type": "markdown",
      "source": [
        "#使用statsmodel.api建立logistic模型，並加以分析\n"
      ],
      "metadata": {
        "id": "U7xZlTdITznJ"
      }
    },
    {
      "cell_type": "code",
      "source": [],
      "metadata": {
        "id": "QelOX_4MxyU-"
      },
      "execution_count": null,
      "outputs": []
    },
    {
      "cell_type": "code",
      "source": [
        "import statsmodels.api as sm\n",
        "\n",
        "# 建立羅吉斯回歸模型\n",
        "logit_model = sm.Logit(Y_train, X_train)\n",
        "\n",
        "# 訓練模型\n",
        "logit_result = logit_model.fit()\n",
        "\n",
        "# 檢視模型摘要\n",
        "print(logit_result.summary())"
      ],
      "metadata": {
        "colab": {
          "base_uri": "https://localhost:8080/"
        },
        "id": "PjSvgzCjb3B_",
        "outputId": "26d30a2f-5310-4513-eeb7-2ecd40c14cae"
      },
      "execution_count": null,
      "outputs": [
        {
          "output_type": "stream",
          "name": "stdout",
          "text": [
            "Optimization terminated successfully.\n",
            "         Current function value: 0.641582\n",
            "         Iterations 5\n",
            "                           Logit Regression Results                           \n",
            "==============================================================================\n",
            "Dep. Variable:                      y   No. Observations:                   86\n",
            "Model:                          Logit   Df Residuals:                       81\n",
            "Method:                           MLE   Df Model:                            4\n",
            "Date:                Sun, 11 Jun 2023   Pseudo R-squ.:                 0.02799\n",
            "Time:                        11:47:58   Log-Likelihood:                -55.176\n",
            "converged:                       True   LL-Null:                       -56.765\n",
            "Covariance Type:            nonrobust   LLR p-value:                    0.5285\n",
            "==============================================================================\n",
            "                 coef    std err          z      P>|z|      [0.025      0.975]\n",
            "------------------------------------------------------------------------------\n",
            "襄             -0.0562      0.473     -0.119      0.905      -0.984       0.872\n",
            "苡             -0.1674      0.441     -0.380      0.704      -1.032       0.697\n",
            "妲             -0.7773      0.378     -2.059      0.040      -1.517      -0.037\n",
            "叡             -0.0314      0.473     -0.066      0.947      -0.959       0.896\n",
            "主題日            1.1795      0.503      2.344      0.019       0.193       2.166\n",
            "==============================================================================\n"
          ]
        }
      ]
    },
    {
      "cell_type": "code",
      "source": [
        "Y_pred = logit_result.predict(X_test)\n",
        "Y_pred_binary = (Y_pred >= 0.5).astype(int)"
      ],
      "metadata": {
        "id": "Run5KvsJVe3l"
      },
      "execution_count": null,
      "outputs": []
    },
    {
      "cell_type": "code",
      "source": [
        "Y_pred_binary = Y_pred_binary.values"
      ],
      "metadata": {
        "id": "_aESfW22XW_o"
      },
      "execution_count": null,
      "outputs": []
    },
    {
      "cell_type": "code",
      "source": [
        "accuracy = (Y_pred_binary == Y_test).mean()\n",
        "print(\"準確率：\", accuracy)"
      ],
      "metadata": {
        "colab": {
          "base_uri": "https://localhost:8080/"
        },
        "id": "9IpFVHSxVfA5",
        "outputId": "afbf6af5-9c1d-4468-cf17-7a2c5d35d950"
      },
      "execution_count": null,
      "outputs": [
        {
          "output_type": "stream",
          "name": "stdout",
          "text": [
            "準確率： 0.5\n"
          ]
        }
      ]
    },
    {
      "cell_type": "code",
      "source": [
        "params = logit_result.params\n",
        "conf_ = logit_result.conf_int()\n",
        "conf_['Odds Ratios'] = params\n",
        "conf_.columns = [\"5%\",\"95%\",\"Odds Ratios\"]\n",
        "print(np.exp(conf_))"
      ],
      "metadata": {
        "id": "53RQioVDf2go",
        "colab": {
          "base_uri": "https://localhost:8080/"
        },
        "outputId": "6b25c37f-782f-422a-bfa6-0ab77ec5c62d"
      },
      "execution_count": null,
      "outputs": [
        {
          "output_type": "stream",
          "name": "stdout",
          "text": [
            "           5%       95%  Odds Ratios\n",
            "襄    0.373787  2.390825     0.945335\n",
            "苡    0.356428  2.007426     0.845873\n",
            "妲    0.219293  0.963350     0.459626\n",
            "叡    0.383373  2.449824     0.969121\n",
            "主題日  1.213319  8.719695     3.252656\n"
          ]
        }
      ]
    },
    {
      "cell_type": "code",
      "source": [
        "logit_result_prob = np.asarray(logit_result.predict(X_test))"
      ],
      "metadata": {
        "id": "WmxLf-w7TAGv"
      },
      "execution_count": null,
      "outputs": []
    },
    {
      "cell_type": "code",
      "source": [
        "# ROC Curve\n",
        "import matplotlib.pyplot as plt\n",
        "from sklearn.metrics import roc_auc_score\n",
        "from sklearn.metrics import roc_curve\n",
        "logit_roc_auc = roc_auc_score(Y_test, logit_result.predict(X_test))\n",
        "fpr, tpr, thresholds = roc_curve(Y_test, logit_result_prob)\n",
        "plt.figure()\n",
        "plt.plot(fpr, tpr, label=f'Logistic Regression (area = {logit_roc_auc :.2f}')\n",
        "plt.plot([0, 1], [0, 1],'r--')\n",
        "plt.xlabel('False Positive Rate')\n",
        "plt.ylabel('True Positive Rate')\n",
        "plt.title('Receiver operating characteristic')\n",
        "plt.legend(loc=\"lower right\")\n",
        "plt.savefig('Log_ROC')\n",
        "plt.show()\n",
        "\n",
        "auc = roc_auc_score(Y_test, y_pred)\n",
        "print(\"AUC值:\", auc)"
      ],
      "metadata": {
        "colab": {
          "base_uri": "https://localhost:8080/",
          "height": 503
        },
        "id": "aZxX4TECTbsO",
        "outputId": "1e7405a2-9364-446c-af90-8be1324ad01e"
      },
      "execution_count": null,
      "outputs": [
        {
          "output_type": "display_data",
          "data": {
            "text/plain": [
              "<Figure size 640x480 with 1 Axes>"
            ],
            "image/png": "[encoded data removed]"
          },
          "metadata": {}
        },
        {
          "output_type": "stream",
          "name": "stdout",
          "text": [
            "AUC值: 0.5803571428571428\n"
          ]
        }
      ]
    },
    {
      "cell_type": "code",
      "source": [
        "# 繪圖\n",
        "from scipy.special import expit\n",
        "plt.figure(figsize=(8, 8))\n",
        "plt.rcParams['font.size'] = 14\n",
        "plt.title(f'Logistic regression (accuracy={accuracy:.2f})')\n",
        "# 訓練集範圍的邏輯斯函數\n",
        "x = np.linspace(np.amin(X_train), np.amax(X_train),\n",
        "                num=X_train.size)\n",
        "y = expit(np.dot(x,  model_logreg.coef_[0]) + model_logreg.intercept_[0])\n",
        "\n",
        "plt.plot(x, y, color='teal', linewidth=2,\n",
        "         label=f'expit(x * {model_logreg.coef_[0][0]:.3f} ' + \\\n",
        "               f'+ {model_logreg.intercept_[0]:.3f})')\n",
        "\n",
        "# 邏輯斯函數\n",
        "y_t = expit(np.dot(X_test, model_logreg.coef_[0]) + model_logreg.intercept_[0])\n",
        "# 測試集資料與其實際/預測標籤\n",
        "plt.scatter(X_test['襄']*logit_result.params[0], y_t, c=y_pred, cmap='tab10', s=100)\n",
        "plt.scatter(X_test['襄']*logit_result.params[0], y_t, c=Y_test, cmap='Set3', s=35)\n",
        "plt.scatter(X_test['苡']*logit_result.params[1], y_t, c=y_pred, cmap='tab10', s=100)\n",
        "plt.scatter(X_test['苡']*logit_result.params[1], y_t, c=Y_test, cmap='Set3', s=35)\n",
        "plt.scatter(X_test['妲']*logit_result.params[2], y_t, c=y_pred, cmap='tab10', s=100)\n",
        "plt.scatter(X_test['妲']*logit_result.params[2], y_t, c=Y_test, cmap='Set3', s=35)\n",
        "plt.scatter(X_test['叡']*logit_result.params[3], y_t, c=y_pred, cmap='tab10', s=100)\n",
        "plt.scatter(X_test['叡']*logit_result.params[3], y_t, c=Y_test, cmap='Set3', s=35)\n",
        "plt.scatter(X_test['主題日']*logit_result.params[4], y_t, c=y_pred, cmap='tab10', s=100)\n",
        "plt.scatter(X_test['主題日']*logit_result.params[4], y_t, c=Y_test, cmap='Set3', s=35)\n",
        "plt.grid(True)\n",
        "plt.xlim([-0.05, 1.05])\n",
        "plt.ylim([-0.05, 1.05])\n",
        "plt.tight_layout()\n",
        "plt.show()"
      ],
      "metadata": {
        "colab": {
          "base_uri": "https://localhost:8080/",
          "height": 883
        },
        "id": "N7-RzoYAUjjb",
        "outputId": "2e446ff7-30dd-491d-99a1-39b64ac4df38"
      },
      "execution_count": null,
      "outputs": [
        {
          "output_type": "stream",
          "name": "stderr",
          "text": [
            "/usr/local/lib/python3.10/dist-packages/numpy/core/fromnumeric.py:84: FutureWarning: In a future version, DataFrame.min(axis=None) will return a scalar min over the entire DataFrame. To retain the old behavior, use 'frame.min(axis=0)' or just 'frame.min()'\n",
            "  return reduction(axis=axis, out=out, **passkwargs)\n",
            "/usr/local/lib/python3.10/dist-packages/numpy/core/fromnumeric.py:84: FutureWarning: In a future version, DataFrame.max(axis=None) will return a scalar max over the entire DataFrame. To retain the old behavior, use 'frame.max(axis=0)' or just 'frame.max()'\n",
            "  return reduction(axis=axis, out=out, **passkwargs)\n"
          ]
        },
        {
          "output_type": "display_data",
          "data": {
            "text/plain": [
              "<Figure size 800x800 with 1 Axes>"
            ],
            "image/png": "[encoded data removed]"
          },
          "metadata": {}
        }
      ]
    },
    {
      "cell_type": "markdown",
      "source": [
        "# 雖然得到了還不錯的結果，但是AUC值與模型的準確率卻有所誤差，考量到可能是因為有過擬合的問題，因此採用sklearn建構模型（sklearn默認使用正則化的迴歸訓練）"
      ],
      "metadata": {
        "id": "1pOHDtQLnEbY"
      }
    },
    {
      "cell_type": "markdown",
      "source": [
        "# 又一次以sklearn建構羅吉斯回歸模型，同時檢測模型的訓練分數"
      ],
      "metadata": {
        "id": "OoDBqUIBcuYS"
      }
    },
    {
      "cell_type": "code",
      "source": [
        "# 1: 建立 logistic regression 模型\n",
        "model_logreg = LogisticRegression()\n",
        "\n",
        "# 訓練模型\n",
        "model_logreg.fit(X_train, Y_train)\n",
        "\n",
        "\n",
        "\n",
        "# 2: 預測測試集的機率\n",
        "y_pred = model_logreg.predict(X_test)\n",
        "\n",
        "# 3. 檢查係數\n",
        "print('B0 of LR', model_logreg.intercept_)\n",
        "print('B1 of LR', model_logreg.coef_)"
      ],
      "metadata": {
        "id": "TAfzJTPgw9Zu",
        "colab": {
          "base_uri": "https://localhost:8080/"
        },
        "outputId": "4068f125-0f6d-42e4-de7d-a831d3615ca0"
      },
      "execution_count": null,
      "outputs": [
        {
          "output_type": "stream",
          "name": "stdout",
          "text": [
            "B0 of LR [-1.68918735]\n",
            "B1 of LR [[0.33802047 0.58666139 0.26298767 0.47253895 1.31194079]]\n"
          ]
        },
        {
          "output_type": "stream",
          "name": "stderr",
          "text": [
            "/usr/local/lib/python3.10/dist-packages/sklearn/utils/validation.py:1143: DataConversionWarning: A column-vector y was passed when a 1d array was expected. Please change the shape of y to (n_samples, ), for example using ravel().\n",
            "  y = column_or_1d(y, warn=True)\n"
          ]
        }
      ]
    },
    {
      "cell_type": "code",
      "source": [
        "from sklearn.metrics import mean_squared_error\n",
        "\n",
        "#先看訓練集的分數\n",
        "y_pred_train = model_logreg.predict(X_train)\n",
        "print('Official of RSS [training set]:', mean_squared_error(Y_train, y_pred_train) * len(Y_train))\n",
        "print('模型分數[training set]:',model_logreg.score(X_train, Y_train))\n",
        "\n"
      ],
      "metadata": {
        "id": "IPROeDFszuRF",
        "colab": {
          "base_uri": "https://localhost:8080/"
        },
        "outputId": "d76e15c6-03ba-4fde-9e21-968406a59775"
      },
      "execution_count": null,
      "outputs": [
        {
          "output_type": "stream",
          "name": "stdout",
          "text": [
            "Official of RSS [training set]: 22.0\n",
            "模型分數[training set]: 0.7441860465116279\n"
          ]
        }
      ]
    },
    {
      "cell_type": "code",
      "source": [
        "#再來看測試集的分數\n",
        "print('Official of RSS:', mean_squared_error(Y_test, y_pred) * len(Y_test))\n",
        "print('模型分數:',model_logreg.score(X_test, Y_test))"
      ],
      "metadata": {
        "id": "vDlL7Ncmgd8P",
        "colab": {
          "base_uri": "https://localhost:8080/"
        },
        "outputId": "7f3e89ad-b0ff-408b-b6e9-df4cd5168899"
      },
      "execution_count": null,
      "outputs": [
        {
          "output_type": "stream",
          "name": "stdout",
          "text": [
            "Official of RSS: 5.0\n",
            "模型分數: 0.7727272727272727\n"
          ]
        }
      ]
    },
    {
      "cell_type": "code",
      "source": [
        "#分析一下模型的準確率並印出混淆矩陣\n",
        "from sklearn.metrics import classification_report\n",
        "print(classification_report(Y_test, y_pred))"
      ],
      "metadata": {
        "colab": {
          "base_uri": "https://localhost:8080/"
        },
        "id": "GpT9irXg7Ew4",
        "outputId": "8467de77-f6ee-4c25-a117-a40945ada36e"
      },
      "execution_count": null,
      "outputs": [
        {
          "output_type": "stream",
          "name": "stdout",
          "text": [
            "              precision    recall  f1-score   support\n",
            "\n",
            "           0       0.80      0.86      0.83        14\n",
            "           1       0.71      0.62      0.67         8\n",
            "\n",
            "    accuracy                           0.77        22\n",
            "   macro avg       0.76      0.74      0.75        22\n",
            "weighted avg       0.77      0.77      0.77        22\n",
            "\n"
          ]
        }
      ]
    },
    {
      "cell_type": "code",
      "source": [
        "from sklearn.metrics import confusion_matrix\n",
        "cm = confusion_matrix(Y_test, y_pred)\n",
        "\n",
        "# 打印混淆矩陣\n",
        "print(\"Confusion Matrix:\")\n",
        "print(cm)\n"
      ],
      "metadata": {
        "id": "r9rpsVLc7Lw9",
        "colab": {
          "base_uri": "https://localhost:8080/"
        },
        "outputId": "c5b0b625-3075-4095-8c17-1bde74dd71f4"
      },
      "execution_count": null,
      "outputs": [
        {
          "output_type": "stream",
          "name": "stdout",
          "text": [
            "Confusion Matrix:\n",
            "[[12  2]\n",
            " [ 3  5]]\n"
          ]
        }
      ]
    },
    {
      "cell_type": "markdown",
      "source": [
        "# 根據以上混淆矩陣，我們可以知道：\n",
        "1.準確率 = (12+5) / (12+2+3+5) = 0.76\n",
        "\n",
        "2.精確率 = 12 / (12+3) = 0.8\n",
        "\n",
        "3.召回率 = 12 / (12+2) = 0.857\n",
        "\n",
        "4.F1 score = 2 * (0.8 * 0.857) / (0.8 + 0.857) = 0.828"
      ],
      "metadata": {
        "id": "UNkGC5dhQVu9"
      }
    },
    {
      "cell_type": "code",
      "source": [
        "#勝率比\n",
        "model_logreg.coef_ = np.array(model_logreg.coef_)\n",
        "OddRatio = np.exp(model_logreg.coef_)\n",
        "OddRatio_param = OddRatio.transpose()\n",
        "print(\"勝率比-襄:\", OddRatio_param[0], \"苡:\", OddRatio_param[1], \"妲:\", OddRatio_param[2], \"叡:\", OddRatio_param[3], \"主題日:\", OddRatio_param[4])"
      ],
      "metadata": {
        "id": "DcBDykWMTgrU",
        "colab": {
          "base_uri": "https://localhost:8080/"
        },
        "outputId": "7a5e4763-f2d0-4a85-9e02-becc9bb56f1c"
      },
      "execution_count": null,
      "outputs": [
        {
          "output_type": "stream",
          "name": "stdout",
          "text": [
            "勝率比-襄: [1.4021692] 苡: [1.79797564] 妲: [1.30081068] 叡: [1.60406166] 主題日: [3.71337358]\n"
          ]
        }
      ]
    },
    {
      "cell_type": "code",
      "source": [
        "from sklearn.feature_selection import f_regression\n",
        "print(f_regression(X_train, Y_train))"
      ],
      "metadata": {
        "colab": {
          "base_uri": "https://localhost:8080/"
        },
        "id": "DIBsLsHs0-ne",
        "outputId": "3649c216-1f99-4649-cb41-49cc3e478d9e"
      },
      "execution_count": null,
      "outputs": [
        {
          "output_type": "stream",
          "name": "stdout",
          "text": [
            "(array([1.30124469e+00, 4.14641794e+00, 1.27541193e-02, 2.94588256e+00,\n",
            "       1.45031712e+01]), array([2.57227872e-01, 4.48730222e-02, 9.10352235e-01, 8.97824424e-02,\n",
            "       2.65335020e-04]))\n"
          ]
        },
        {
          "output_type": "stream",
          "name": "stderr",
          "text": [
            "/usr/local/lib/python3.10/dist-packages/sklearn/utils/validation.py:1143: DataConversionWarning: A column-vector y was passed when a 1d array was expected. Please change the shape of y to (n_samples, ), for example using ravel().\n",
            "  y = column_or_1d(y, warn=True)\n"
          ]
        }
      ]
    },
    {
      "cell_type": "code",
      "source": [
        "import matplotlib.pyplot as plt\n",
        "from sklearn.metrics import roc_auc_score\n",
        "from sklearn.metrics import roc_curve\n",
        "logit_roc_auc = roc_auc_score(Y_test, model_logreg.predict(X_test))\n",
        "fpr, tpr, thresholds = roc_curve(Y_test, model_logreg.predict_proba(X_test)[:,1])\n",
        "plt.figure()\n",
        "plt.plot(fpr, tpr, label=f'Logistic Regression (area = {logit_roc_auc :.2f}')\n",
        "plt.plot([0, 1], [0, 1],'r--')\n",
        "plt.xlabel('False Positive Rate')\n",
        "plt.ylabel('True Positive Rate')\n",
        "plt.title('Receiver operating characteristic')\n",
        "plt.legend(loc=\"lower right\")\n",
        "plt.savefig('Log_ROC')\n",
        "plt.show()\n",
        "\n",
        "auc = roc_auc_score(Y_test, y_pred)\n",
        "print(\"AUC值:\", auc)"
      ],
      "metadata": {
        "colab": {
          "base_uri": "https://localhost:8080/",
          "height": 503
        },
        "id": "Y5NxdMpY0-sr",
        "outputId": "704a8277-1cf7-4a59-b549-a94f447ac0c4"
      },
      "execution_count": null,
      "outputs": [
        {
          "output_type": "display_data",
          "data": {
            "text/plain": [
              "<Figure size 640x480 with 1 Axes>"
            ],
            "image/png": "[encoded data removed]"
          },
          "metadata": {}
        },
        {
          "output_type": "stream",
          "name": "stdout",
          "text": [
            "AUC值: 0.7410714285714286\n"
          ]
        }
      ]
    },
    {
      "cell_type": "code",
      "source": [
        "from scipy.special import expit\n",
        "plt.figure(figsize=(8, 8))\n",
        "plt.rcParams['font.size'] = 14\n",
        "plt.title(f'Logistic regression (accuracy={0.76:.2f})')\n",
        "# 訓練集範圍的邏輯斯函數\n",
        "x = np.linspace(np.amin(X_train), np.amax(X_train),\n",
        "                num=X_train.size)\n",
        "y = expit(np.dot(x,  model_logreg.coef_[0]) + model_logreg.intercept_[0])\n",
        "\n",
        "plt.plot(x, y, color='teal', linewidth=2,\n",
        "         label=f'expit(x * {model_logreg.coef_[0][0]:.3f} ' + \\\n",
        "               f'+ {model_logreg.intercept_[0]:.3f})')\n",
        "\n",
        "# 邏輯斯函數\n",
        "y_t = expit(np.dot(X_test, model_logreg.coef_[0]) + model_logreg.intercept_[0])\n",
        "# 測試集資料與其實際/預測標籤\n",
        "plt.scatter(X_test['襄']*model_logreg.coef_[0][0], y_t, c=y_pred, cmap='tab10', s=100)\n",
        "plt.scatter(X_test['襄']*model_logreg.coef_[0][0], y_t, c=Y_test, cmap='Set3', s=35)\n",
        "plt.scatter(X_test['苡']*model_logreg.coef_[0][1], y_t, c=y_pred, cmap='tab10', s=100)\n",
        "plt.scatter(X_test['苡']*model_logreg.coef_[0][1], y_t, c=Y_test, cmap='Set3', s=35)\n",
        "plt.scatter(X_test['妲']*model_logreg.coef_[0][2], y_t, c=y_pred, cmap='tab10', s=100)\n",
        "plt.scatter(X_test['妲']*model_logreg.coef_[0][2], y_t, c=Y_test, cmap='Set3', s=35)\n",
        "plt.scatter(X_test['叡']*model_logreg.coef_[0][3], y_t, c=y_pred, cmap='tab10', s=100)\n",
        "plt.scatter(X_test['叡']*model_logreg.coef_[0][3], y_t, c=Y_test, cmap='Set3', s=35)\n",
        "plt.scatter(X_test['主題日']*model_logreg.coef_[0][4], y_t, c=y_pred, cmap='tab10', s=100)\n",
        "plt.scatter(X_test['主題日']*model_logreg.coef_[0][4], y_t, c=Y_test, cmap='Set3', s=35)\n",
        "plt.grid(True)\n",
        "plt.xlim([-0.05, 1.05])\n",
        "plt.ylim([-0.05, 1.05])\n",
        "plt.tight_layout()\n",
        "plt.show()"
      ],
      "metadata": {
        "colab": {
          "base_uri": "https://localhost:8080/",
          "height": 883
        },
        "id": "msw2DcuRFrBm",
        "outputId": "bd6b6633-2db5-479f-c479-f26bf043681f"
      },
      "execution_count": null,
      "outputs": [
        {
          "output_type": "stream",
          "name": "stderr",
          "text": [
            "/usr/local/lib/python3.10/dist-packages/numpy/core/fromnumeric.py:84: FutureWarning: In a future version, DataFrame.min(axis=None) will return a scalar min over the entire DataFrame. To retain the old behavior, use 'frame.min(axis=0)' or just 'frame.min()'\n",
            "  return reduction(axis=axis, out=out, **passkwargs)\n",
            "/usr/local/lib/python3.10/dist-packages/numpy/core/fromnumeric.py:84: FutureWarning: In a future version, DataFrame.max(axis=None) will return a scalar max over the entire DataFrame. To retain the old behavior, use 'frame.max(axis=0)' or just 'frame.max()'\n",
            "  return reduction(axis=axis, out=out, **passkwargs)\n"
          ]
        },
        {
          "output_type": "display_data",
          "data": {
            "text/plain": [
              "<Figure size 800x800 with 1 Axes>"
            ],
            "image/png": "[encoded data removed]"
          },
          "metadata": {}
        }
      ]
    },
    {
      "cell_type": "code",
      "source": [],
      "metadata": {
        "id": "PLPesk9vFE9m"
      },
      "execution_count": null,
      "outputs": []
    },
    {
      "cell_type": "code",
      "source": [],
      "metadata": {
        "id": "dLHMwehFFFNI"
      },
      "execution_count": null,
      "outputs": []
    },
    {
      "cell_type": "code",
      "source": [],
      "metadata": {
        "id": "-P0x3HwrFFW9"
      },
      "execution_count": null,
      "outputs": []
    },
    {
      "cell_type": "code",
      "source": [],
      "metadata": {
        "id": "sAzwe7w0FFf6"
      },
      "execution_count": null,
      "outputs": []
    },
    {
      "cell_type": "code",
      "source": [],
      "metadata": {
        "id": "9ah6OitnFFoj"
      },
      "execution_count": null,
      "outputs": []
    },
    {
      "cell_type": "code",
      "source": [],
      "metadata": {
        "id": "xo8-ru7uFFx-"
      },
      "execution_count": null,
      "outputs": []
    },
    {
      "cell_type": "code",
      "source": [],
      "metadata": {
        "id": "bxBInBzLFF65"
      },
      "execution_count": null,
      "outputs": []
    }
  ]
}