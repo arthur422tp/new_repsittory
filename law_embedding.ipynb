{
 "cells": [
  {
   "cell_type": "code",
   "execution_count": 1,
   "metadata": {},
   "outputs": [
    {
     "name": "stderr",
     "output_type": "stream",
     "text": [
      "c:\\Users\\User\\anaconda3\\envs\\mypaper\\lib\\site-packages\\tqdm\\auto.py:21: TqdmWarning: IProgress not found. Please update jupyter and ipywidgets. See https://ipywidgets.readthedocs.io/en/stable/user_install.html\n",
      "  from .autonotebook import tqdm as notebook_tqdm\n"
     ]
    }
   ],
   "source": [
    "import os\n",
    "import pandas as pd\n",
    "from datasets import concatenate_datasets, Dataset\n",
    "import numpy as np\n",
    "from sentence_transformers import SentenceTransformer\n",
    "import torch\n",
    "from langchain.text_splitter import RecursiveCharacterTextSplitter\n",
    "import faiss\n",
    "import pickle\n",
    "import multiprocessing as mp\n",
    "from transformers import pipeline"
   ]
  },
  {
   "cell_type": "code",
   "execution_count": 2,
   "metadata": {},
   "outputs": [],
   "source": [
    "from langchain.vectorstores import FAISS\n",
    "from langchain_openai import OpenAI\n",
    "from langchain.prompts import PromptTemplate\n",
    "from langchain import LLMChain\n"
   ]
  },
  {
   "cell_type": "code",
   "execution_count": 3,
   "metadata": {},
   "outputs": [],
   "source": [
    "def read_txt_files_to_dataframe(directory):\n",
    "    data = []\n",
    "    \n",
    " \n",
    "    for filename in os.listdir(directory):\n",
    "        if filename.endswith('.txt'):\n",
    "            filepath = os.path.join(directory, filename)\n",
    "            with open(filepath, 'r', encoding='utf-8') as file:\n",
    "                content = file.read()\n",
    "                title = os.path.splitext(filename)[0]\n",
    "                data.append({'Title': title, 'Content': content})\n",
    "    \n",
    "    df = pd.DataFrame(data)\n",
    "    \n",
    "    return df"
   ]
  },
  {
   "cell_type": "markdown",
   "metadata": {},
   "source": [
    "資料整理"
   ]
  },
  {
   "cell_type": "code",
   "execution_count": 4,
   "metadata": {},
   "outputs": [],
   "source": [
    "directory_path_1 = r'C:\\Users\\User\\Desktop\\code\\word_embedding_law\\行政-財政及金融.txt'\n",
    "directory_path_2 = r'C:\\Users\\User\\Desktop\\code\\word_embedding_law\\行政-經濟及能源.txt'\n",
    "\n",
    "commercial_df = read_txt_files_to_dataframe(directory_path_1)\n",
    "eco_df = read_txt_files_to_dataframe(directory_path_2)"
   ]
  },
  {
   "cell_type": "code",
   "execution_count": 5,
   "metadata": {},
   "outputs": [],
   "source": [
    "commercial_dataset = Dataset.from_pandas(commercial_df)\n",
    "eco_dataset = Dataset.from_pandas(eco_df)"
   ]
  },
  {
   "cell_type": "code",
   "execution_count": 6,
   "metadata": {},
   "outputs": [
    {
     "name": "stderr",
     "output_type": "stream",
     "text": [
      "Map: 100%|██████████| 206/206 [00:00<00:00, 6833.60 examples/s]\n",
      "Map: 100%|██████████| 96/96 [00:00<00:00, 8595.80 examples/s]\n"
     ]
    }
   ],
   "source": [
    "def concatenate_text(examples):\n",
    "    return {\n",
    "        \"text\": examples[\"Title\"]\n",
    "        + \" \\n \"\n",
    "        + examples[\"Content\"]\n",
    "\n",
    "    }\n",
    "\n",
    "\n",
    "commercial_dataset = commercial_dataset.map(concatenate_text)\n",
    "eco_dataset = eco_dataset.map(concatenate_text)"
   ]
  },
  {
   "cell_type": "code",
   "execution_count": 7,
   "metadata": {},
   "outputs": [],
   "source": [
    "law_dataset = concatenate_datasets([eco_dataset, commercial_dataset])"
   ]
  },
  {
   "cell_type": "code",
   "execution_count": 8,
   "metadata": {},
   "outputs": [],
   "source": [
    "law_text = ' '.join(law_dataset['text'])"
   ]
  },
  {
   "cell_type": "code",
   "execution_count": 9,
   "metadata": {},
   "outputs": [],
   "source": [
    "text_splitter = RecursiveCharacterTextSplitter(separators=[\"\\n\\n\"], chunk_size=200, chunk_overlap=50)\n",
    "text = text_splitter.split_text(law_text)"
   ]
  },
  {
   "cell_type": "markdown",
   "metadata": {},
   "source": [
    "模型"
   ]
  },
  {
   "cell_type": "code",
   "execution_count": 10,
   "metadata": {},
   "outputs": [],
   "source": [
    "model_ckpt = \"intfloat/multilingual-e5-large\"\n",
    "\n",
    "model = SentenceTransformer(model_ckpt)"
   ]
  },
  {
   "cell_type": "code",
   "execution_count": 11,
   "metadata": {},
   "outputs": [],
   "source": [
    "device = torch.device(\"cuda\")"
   ]
  },
  {
   "cell_type": "markdown",
   "metadata": {},
   "source": [
    "embedding 沒事別按"
   ]
  },
  {
   "cell_type": "code",
   "execution_count": 40,
   "metadata": {},
   "outputs": [],
   "source": [
    "embeddings = model.encode(text, device='cuda')"
   ]
  },
  {
   "cell_type": "code",
   "execution_count": 41,
   "metadata": {},
   "outputs": [],
   "source": [
    "with open('law_Sentence_embeddings', 'wb') as f:\n",
    "    pickle.dump(embeddings, f)\n",
    "\n"
   ]
  },
  {
   "cell_type": "markdown",
   "metadata": {},
   "source": [
    "打開儲存的embedding"
   ]
  },
  {
   "cell_type": "code",
   "execution_count": 12,
   "metadata": {},
   "outputs": [],
   "source": [
    "with open('law_Sentence_embeddings', 'rb') as f:\n",
    "    embeddings = pickle.load(f)"
   ]
  },
  {
   "cell_type": "code",
   "execution_count": 213,
   "metadata": {},
   "outputs": [],
   "source": [
    "faiss.normalize_L2(embeddings)\n",
    "dimension = embeddings.shape[1]\n",
    "index = faiss.IndexFlatIP(dimension)\n",
    "index.add(embeddings)"
   ]
  },
  {
   "cell_type": "code",
   "execution_count": 214,
   "metadata": {},
   "outputs": [],
   "source": [
    "faiss.write_index(index, \"C:/Users/User/Desktop/code/word_embedding_law/faiss_index.bin\")"
   ]
  },
  {
   "cell_type": "code",
   "execution_count": 215,
   "metadata": {},
   "outputs": [],
   "source": [
    "index = faiss.read_index(\"C:/Users/User/Desktop/code/word_embedding_law/faiss_index.bin\")"
   ]
  },
  {
   "cell_type": "markdown",
   "metadata": {},
   "source": [
    "RAG部分"
   ]
  },
  {
   "cell_type": "code",
   "execution_count": 216,
   "metadata": {},
   "outputs": [],
   "source": [
    "openai_api_key = \"sk-proj-eyJDSUhWSIYkewbENUGuT3BlbkFJyIDoMtck7604rfRajOV7\""
   ]
  },
  {
   "cell_type": "code",
   "execution_count": 301,
   "metadata": {},
   "outputs": [],
   "source": [
    "def generate_sub_queries(query, num_sub_queries=3):\n",
    "\n",
    "\n",
    "    # 設定 PromptTemplate\n",
    "    prompt = PromptTemplate(\n",
    "        input_variables=[\"query\", \"num_sub_queries\"],\n",
    "        template=\"請使用繁體中文生成出{num_sub_queries}個與{query}相關的問題，以增加檢索的範圍\"\n",
    "    )\n",
    "\n",
    "    # 初始化 OpenAI 的 LLM\n",
    "    llm = OpenAI(temperature=0.7, openai_api_key=openai_api_key)\n",
    "\n",
    "    # 創建 LLMChain\n",
    "    llm_chain = LLMChain(llm=llm, prompt=prompt)\n",
    "\n",
    "    # 生成 sub-queries\n",
    "    sub_queries_text = llm_chain.run(query=query, num_sub_queries=num_sub_queries).strip()\n",
    "    sub_queries = sub_queries_text.split('\\n')  # 假設 LLM 返回每行一個 sub-query\n",
    "\n",
    "    return sub_queries"
   ]
  },
  {
   "cell_type": "code",
   "execution_count": 302,
   "metadata": {},
   "outputs": [],
   "source": [
    "query = \"哪些人要繳菸酒稅\"\n",
    "\n",
    "#sub_queries = generate_sub_queries(query)"
   ]
  },
  {
   "cell_type": "code",
   "execution_count": 303,
   "metadata": {},
   "outputs": [],
   "source": [
    "def Retrieval_Documents(query):\n",
    "    query_embedding = model.encode([query])\n",
    "    faiss.normalize_L2(query_embedding)\n",
    "    D, I = index.search(query_embedding, k=5)\n",
    "    retrieved_docs = [text[i] for i in I[0]]\n",
    "    custom_context = \"\\n\\n\".join(retrieved_docs)\n",
    "\n",
    "    return  retrieved_docs, custom_context"
   ]
  },
  {
   "cell_type": "code",
   "execution_count": 304,
   "metadata": {},
   "outputs": [
    {
     "data": {
      "text/plain": [
       "['* 2 菸酒類稅為國家稅，由財政部稅務署所屬稅務機關徵收之。\\n\\n* 3 菸酒類稅稅率規定如左。（一）菸類稅分菸葉菸絲兩種，菸葉稅按照產區核定完稅價格徵收百分之三十，菸絲稅徵收百分之十五。（二）酒類稅按產地核定完稅價格徵收百分之四十。前項第一款刨絲之菸葉，仍應先納菸葉稅。',\n",
       " '* 4 菸酒稅之納稅義務人如下：一、國內產製之菸酒，為產製廠商。二、委託代製之菸酒，為受託之產製廠商。三、國外進口之菸酒，為收貨人、提貨單或貨物持有人。四、法院及其他機關拍賣尚未完稅之菸酒，為拍定人。五、免稅菸酒因轉讓或移作他用而不符免稅規定者，為轉讓或移作他用之人或貨物持有人。前項第二款委託代製之菸酒，委託廠商為產製應稅菸酒之廠商者，得向主管稽徵機關申請以委託廠商為納稅義務人。',\n",
       " '> 釋：查產製廠商未依規定申報菸品健康福利捐，應加徵滯報金、怠報金，財政部於「菸酒稅稽徵規則」第十三條第二項已規定，菸品產製廠商於申報菸稅時，應同時向主管稽徵機關申報繳納菸品健康福利捐，並明定菸品健康福利捐之徵收準用本法有關菸酒稅之規定，因涉及人民權利義務，配合行政程序法之施行，爰增訂相關規定。',\n",
       " '> 釋：明定菸酒稅之納稅義務人。\\n\\n* 5 菸酒有下列情形之一者，免徵菸酒稅：一、用作產製另一應稅菸酒者。二、運銷國外者。三、參加展覽，於展覽完畢原件復運回廠或出口者。四、旅客自國外隨身攜帶之自用菸酒或調岸船員攜帶自用菸酒，未超過政府規定之限量者。',\n",
       " '* 3 菸酒稅於菸酒出廠或進口時徵收之。菸酒有下列情形之一，視為出廠：一、在廠內供消費者。二、在廠內加工為非應稅產品者。三、在廠內因依法強制執行或其他原因而移轉他人持有者。四、產製廠商申請註銷登記時之庫存菸酒。五、未稅移運至加工、包裝場所或存儲未稅倉庫及廠內，有遇火焚毀或落水沉沒及其他人力不可抵抗災害以外之情事，致短少者。']"
      ]
     },
     "execution_count": 304,
     "metadata": {},
     "output_type": "execute_result"
    }
   ],
   "source": [
    "Retrieval_Documents(query)[0]"
   ]
  },
  {
   "cell_type": "code",
   "execution_count": 305,
   "metadata": {},
   "outputs": [],
   "source": [
    "def RAG_LLM_chain(query):    \n",
    "    prompt = PromptTemplate(\n",
    "        input_variables=[\"context\",\"query\"],\n",
    "        template=\"\"\"\n",
    "        \n",
    "你現在是一個法律顧問機器人，請根據以下要求回答問題：\n",
    "一、使用者會輸入{query}，你必須根據{context}回答\n",
    "二、如{context}中有條文修正或是刪除的補充，忽略它\n",
    "三、請以繁體中文回答\n",
    "\n",
    "\"\"\"\n",
    "    )\n",
    "\n",
    "    # 使用 LLMChain 和 OpenAI LLM\n",
    "    llm = OpenAI(temperature=0.7, openai_api_key=openai_api_key, max_tokens=700)\n",
    "\n",
    "    llm_chain = LLMChain(llm=llm, prompt=prompt)\n",
    "\n",
    "    # 傳遞自定義的上下文到 LLM\n",
    "    final_result = llm_chain.run(context=Retrieval_Documents(query)[1], query=query)\n",
    "\n",
    "    print(\"Final Result:\\n\", final_result)"
   ]
  },
  {
   "cell_type": "markdown",
   "metadata": {},
   "source": [
    "生成回應"
   ]
  },
  {
   "cell_type": "code",
   "execution_count": 236,
   "metadata": {},
   "outputs": [
    {
     "name": "stdout",
     "output_type": "stream",
     "text": [
      "Our query: 遺產超過多少錢時要繳遺產稅\n",
      "==================================================\n",
      "Final Result:\n",
      " 二、根據* 29 遺產稅申報義務人違反第十七條之規定不依限申報者，處一千元以下之罰鍰，並通知補報。\n",
      "\n",
      "* 30 納稅義務人意圖減免稅額而為虛偽申報或有隱匿遺產之行為者，除照補稅額外並處以所隱稅額一倍至三倍之罰鍰，其觸犯刑法者，應依刑法處斷。\n",
      "\n",
      "\n",
      "\n",
      "* 15 遺產淨值超過二萬元者，起徵遺產稅，依左列稅率按級計算課徵之：一、超過二萬元至四萬元者，就其超過額課徵百分之四。二、超過四萬元至六萬元者，就其超過額課徵百分之五。三、超過六萬元至八萬元者，就其超過額課徵百分之六。四、超過八萬元至十萬元者，就其超過額課徵百分之七。五、超過十萬元至十二萬元者，就其超過額課徵百分之九。六、超過十二萬元至十四萬元者，就其超過額課徵百分之十一。七、超過十四萬元至十六萬元者，就其超過額課徵百分之十三。八、超過十六萬元至十八萬元者，就其超過額課徵百分之十五。九、超過十八萬元至二十萬元者，就其超過額課徵百分之十七。十、超過二十萬元至二十五萬元者，就其超過額課徵百分之二十。十一、超過二十五萬元至三十萬元者，就其超過額課徵百分之二十三。十二、超過三十萬元至三十五萬元者，就其超過額課徵百分之二十六。十三、超過三十五萬元至四十萬元者，就其超過額課徵\n",
      "==================================================\n",
      "Document 1:\n",
      "* 29 遺產稅申報義務人違反第十七條之規定不依限申報者，處一千元以下之罰鍰，並通知補報。\n",
      "\n",
      "* 30 納稅義務人意圖減免稅額而為虛偽申報或有隱匿遺產之行為者，除照補稅額外並處以所隱稅額一倍至三倍之罰鍰，其觸犯刑法者，應依刑法處斷。\n",
      "--------------------------------------------------\n",
      "==================================================\n",
      "Document 2:\n",
      "\n",
      "\n",
      "* 15 遺產淨值超過二萬元者，起徵遺產稅，依左列稅率按級計算課徵之：一、超過二萬元至四萬元者，就其超過額課徵百分之四。二、超過四萬元至六萬元者，就其超過額課徵百分之五。三、超過六萬元至八萬元者，就其超過額課徵百分之六。四、超過八萬元至十萬元者，就其超過額課徵百分之七。五、超過十萬元至十二萬元者，就其超過額課徵百分之九。六、超過十二萬元至十四萬元者，就其超過額課徵百分之十一。七、超過十四萬元至十六萬元者，就其超過額課徵百分之十三。八、超過十六萬元至十八萬元者，就其超過額課徵百分之十五。九、超過十八萬元至二十萬元者，就其超過額課徵百分之十七。十、超過二十萬元至二十五萬元者，就其超過額課徵百分之二十。十一、超過二十五萬元至三十萬元者，就其超過額課徵百分之二十三。十二、超過三十萬元至三十五萬元者，就其超過額課徵百分之二十六。十三、超過三十五萬元至四十萬元者，就其超過額課徵百分之二十九。十四、超過四十萬元至四十五萬元者，就其超過額課徵百分之三十二。十五、超過四十五萬元至五十萬元者，就其超過額課徵百分之三十五。十六、超過五十萬元至六十萬元者，就其超過額課徵百分之三十九。十七、超過六十萬元至七十萬元者，就其超過額課徵百分之四十三。十八、超過七十萬元至八十萬元者，就其超過額課徵百分之四十七。十九、超過八十萬元至九十萬元者，就其超過額課徵百分之五十一。二十、超過九十萬元至一百萬元者，就其超過額課徵百分之五十五。二十一、超過一百萬元至一百五十萬元者，就其超過額課徵百分之六十。二十二、超過一百五十萬元至二百萬元者，就其超過額課徵百分之六十五。二十三、超過二百萬元者，就其超過額課徵百分之七十。\n",
      "--------------------------------------------------\n",
      "==================================================\n",
      "Document 3:\n",
      "* 3.2 因遺囑成立之信託，於遺囑人死亡時，其信託財產應依本法規定，課徵遺產稅。信託關係存續中受益人死亡時，應就其享有信託利益之權利未領受部分，依本法規定課徵遺產稅。\n",
      "--------------------------------------------------\n",
      "==================================================\n",
      "Document 4:\n",
      "* 13 被繼承人死亡前五年內分析或贈與繼承人之財產應視為遺產之一部，一律徵稅。\n",
      "\n",
      "* 14 計算被繼承人遺產總額時，應扣除左列各項：一、依法應繳納之稅捐及罰金罰鍰。二、被繼承人死亡前未償之債務具有確實證明者。三、喪葬所需之必要費用以三千元核計。四、受理遺產及執行遺囑之必要費用。\n",
      "--------------------------------------------------\n",
      "==================================================\n",
      "Document 5:\n",
      "* 49 （刪除）\n",
      "\n",
      "> 釋：稅捐稽徵法第四十六條已有規定，故刪除本條。\n",
      "\n",
      "* 50 納稅義務人違反第八條之規定，於遺產稅未繳清前，分割遺產、交付遺贈或辦理移轉登記，或贈與稅未繳清前，辦理贈與移轉登記者，處一年以下有期徒刑。\n",
      "--------------------------------------------------\n"
     ]
    }
   ],
   "source": [
    "print(\"Our query:\", query)\n",
    "#print(\"Generated Sub-queries:\", sub_queries)\n",
    "print(\"=\"* 50)\n",
    "\n",
    "RAG_LLM_chain(query)\n",
    "\n",
    "for i, doc in enumerate(Retrieval_Documents(query)[0]):\n",
    "    print(\"=\"* 50)\n",
    "    print(f\"Document {i+1}:\")\n",
    "    print(Retrieval_Documents(query)[0][i])\n",
    "    print(\"-\" * 50)"
   ]
  },
  {
   "cell_type": "markdown",
   "metadata": {},
   "source": [
    "嘗試做做看聚類"
   ]
  },
  {
   "cell_type": "markdown",
   "metadata": {},
   "source": [
    "AHC"
   ]
  },
  {
   "cell_type": "code",
   "execution_count": 276,
   "metadata": {},
   "outputs": [],
   "source": [
    "import umap\n",
    "from scipy.cluster.hierarchy import dendrogram, linkage\n",
    "from matplotlib import pyplot as plt\n",
    "from scipy.cluster.hierarchy import fcluster\n",
    "from transformers import pipeline, AutoTokenizer, AutoModelForSeq2SeqLM, AutoModel, BertConfig, GPTNeoForCausalLM, GPT2Tokenizer\n",
    "import gc\n",
    "from scipy.cluster.hierarchy import linkage, dendrogram, to_tree\n",
    "from scipy.spatial.distance import cosine, euclidean\n",
    "import heapq"
   ]
  },
  {
   "cell_type": "code",
   "execution_count": 309,
   "metadata": {},
   "outputs": [
    {
     "name": "stderr",
     "output_type": "stream",
     "text": [
      "c:\\Users\\User\\anaconda3\\envs\\mypaper\\lib\\site-packages\\umap\\umap_.py:1945: UserWarning: n_jobs value 1 overridden to 1 by setting random_state. Use no seed for parallelism.\n",
      "  warn(f\"n_jobs value {self.n_jobs} overridden to 1 by setting random_state. Use no seed for parallelism.\")\n"
     ]
    }
   ],
   "source": [
    "umap_model = umap.UMAP(n_components=3, random_state=42)\n",
    "reduced_embeddings = umap_model.fit_transform(embeddings)"
   ]
  },
  {
   "cell_type": "code",
   "execution_count": 311,
   "metadata": {},
   "outputs": [],
   "source": [
    "Z = linkage(reduced_embeddings, method='weighted')"
   ]
  },
  {
   "cell_type": "code",
   "execution_count": 312,
   "metadata": {},
   "outputs": [],
   "source": [
    "root = to_tree(Z)"
   ]
  },
  {
   "cell_type": "code",
   "execution_count": 313,
   "metadata": {},
   "outputs": [],
   "source": [
    "class Node:\n",
    "    def __init__(self, id, left=None, right=None, is_leaf=False, sentence=None, embedding=None):\n",
    "        self.id = id\n",
    "        self.left = left\n",
    "        self.right = right\n",
    "        self.is_leaf = is_leaf\n",
    "        self.sentence = sentence\n",
    "        self.embedding = embedding"
   ]
  },
  {
   "cell_type": "code",
   "execution_count": 315,
   "metadata": {},
   "outputs": [],
   "source": [
    "def build_tree(node, sentences, embeddings):\n",
    "    if node.is_leaf():\n",
    "        return Node(node.id, is_leaf=True, sentence=sentences[node.id], embedding=embeddings[node.id])\n",
    "    left = build_tree(node.left, sentences, embeddings)\n",
    "    right = build_tree(node.right, sentences, embeddings)\n",
    "    return Node(node.id, left=left, right=right)\n",
    "\n",
    "\n",
    "tree = build_tree(root, text, reduced_embeddings)"
   ]
  },
  {
   "cell_type": "code",
   "execution_count": 316,
   "metadata": {},
   "outputs": [],
   "source": [
    "def query_search(node, query_embedding, top_k):\n",
    "    def search(node, query_embedding, results):\n",
    "        if node.is_leaf:\n",
    "            distance = cosine(query_embedding, node.embedding)\n",
    "            heapq.heappush(results, (-distance, node.sentence))\n",
    "            if len(results) > top_k:\n",
    "                heapq.heappop(results)\n",
    "        else:\n",
    "            search(node.left, query_embedding, results)\n",
    "            search(node.right, query_embedding, results)\n",
    "    \n",
    "    results = []\n",
    "    search(node, query_embedding, results)\n",
    "    \n",
    "    return [(sentence, -distance) for distance, sentence in sorted(results, reverse=True)]"
   ]
  },
  {
   "cell_type": "code",
   "execution_count": 320,
   "metadata": {},
   "outputs": [],
   "source": [
    "top_k = 5\n",
    "query = \"哪些人要繳菸酒稅\"\n",
    "query_embedding = umap_model.transform(model.encode([query]))[0]\n"
   ]
  },
  {
   "cell_type": "code",
   "execution_count": 321,
   "metadata": {},
   "outputs": [],
   "source": [
    "def RAG_cluster_LLM(query, results):    \n",
    "    prompt = PromptTemplate(\n",
    "        input_variables=[\"context\",\"query\"],\n",
    "        template=\"\"\"\n",
    "        \n",
    "你現在是一個法律顧問機器人，請根據以下要求回答問題：\n",
    "一、使用者會輸入{query}，你必須根據{context}回答\n",
    "二、如{context}中有條文修正或是刪除的補充，忽略它\n",
    "三、請以繁體中文回答\n",
    "\n",
    "\"\"\"\n",
    "    )\n",
    "\n",
    "    # 使用 LLMChain 和 OpenAI LLM\n",
    "    llm = OpenAI(temperature=0.7, openai_api_key=openai_api_key, max_tokens=900)\n",
    "\n",
    "    llm_chain = LLMChain(llm=llm, prompt=prompt)\n",
    "\n",
    "    # 傳遞自定義的上下文到 LLM\n",
    "    final_result = llm_chain.run(context=results, query=query)\n",
    "\n",
    "    print(\"Final Result:\\n\", final_result)"
   ]
  },
  {
   "cell_type": "code",
   "execution_count": 322,
   "metadata": {},
   "outputs": [
    {
     "name": "stdout",
     "output_type": "stream",
     "text": [
      "查詢: '哪些人要繳菸酒稅'\n",
      "前 5 個最相似的句子:\n",
      "1. 文本: '* 2 菸酒類稅為國家稅，由財政部稅務署所屬稅務機關徵收之。\n",
      "\n",
      "* 3 菸酒類稅稅率規定如左。（一）菸類稅分菸葉菸絲兩種，菸葉稅按照產區核定完稅價格徵收百分之三十，菸絲稅徵收百分之十五。（二）酒類稅按產地核定完稅價格徵收百分之四十。前項第一款刨絲之菸葉，仍應先納菸葉稅。', 相似度: 1.0000\n",
      "2. 文本: '* 12 產製廠商當月份出廠菸酒之應納稅款，應於次月十五日以前自行向公庫繳納，並依照財政部規定之格式填具計算稅額申報書，檢同繳款書收據向主管稽徵機關申報。無應納稅額者，仍應向主管稽徵機關申報。進口應稅菸酒，納稅義務人應向海關申報，並由海關於徵收關稅時代徵之。法院及其他機關拍賣尚未完稅之菸酒，拍定人應於提領前向所在地主管稽徵機關申報納稅。', 相似度: 0.9999\n",
      "3. 文本: '* 4 菸酒稅之納稅義務人如下：一、國內產製之菸酒，為產製廠商。二、委託代製之菸酒，為受託之產製廠商。三、國外進口之菸酒，為收貨人、提貨單或貨物持有人。四、法院及其他機關拍賣尚未完稅之菸酒，為拍定人。五、免稅菸酒因轉讓或移作他用而不符免稅規定者，為轉讓或移作他用之人或貨物持有人。前項第二款委託代製之菸酒，委託廠商為產製應稅菸酒之廠商者，得向主管稽徵機關申請以委託廠商為納稅義務人。', 相似度: 0.9999\n",
      "4. 文本: '> 釋：明定菸酒稅之納稅義務人。\n",
      "\n",
      "* 5 菸酒有下列情形之一者，免徵菸酒稅：一、用作產製另一應稅菸酒者。二、運銷國外者。三、參加展覽，於展覽完畢原件復運回廠或出口者。四、旅客自國外隨身攜帶之自用菸酒或調岸船員攜帶自用菸酒，未超過政府規定之限量者。', 相似度: 0.9999\n",
      "5. 文本: '* 3 菸酒稅於菸酒出廠或進口時徵收之。菸酒有下列情形之一，視為出廠：一、在廠內供消費者。二、在廠內加工為非應稅產品者。三、在廠內因依法強制執行或其他原因而移轉他人持有者。四、產製廠商申請註銷登記時之庫存菸酒。五、未稅移運至加工、包裝場所或存儲未稅倉庫及廠內，有遇火焚毀或落水沉沒及其他人力不可抵抗災害以外之情事，致短少者。', 相似度: 0.9998\n"
     ]
    }
   ],
   "source": [
    "results = query_search(tree, query_embedding, top_k)\n",
    "\n",
    "print(f\"查詢: '{query}'\")\n",
    "print(f\"前 {top_k} 個最相似的句子:\")\n",
    "for i, (sentence, similarity) in enumerate(results, 1):\n",
    "    print(f\"{i}. 文本: '{sentence}', 相似度: {1 - similarity:.4f}\")"
   ]
  },
  {
   "cell_type": "code",
   "execution_count": 323,
   "metadata": {},
   "outputs": [],
   "source": [
    "results = [x[0] for x in results]"
   ]
  },
  {
   "cell_type": "code",
   "execution_count": 324,
   "metadata": {},
   "outputs": [
    {
     "name": "stdout",
     "output_type": "stream",
     "text": [
      "Our query: 哪些人要繳菸酒稅\n",
      "==================================================\n",
      "Final Result:\n",
      " 菸酒稅的納稅義務人有產製廠商、委託代製廠商、國外進口菸酒的收貨人或提貨單持有人、法院及其他機關拍賣尚未完稅的菸酒的拍定人、以及免稅菸酒轉讓或移作他用的人或貨物持有人。若委託廠商為產製應稅菸酒的廠商，則可向主管稽徵機關申請以委託廠商為納稅義務人。另外，菸酒稅有特定的情形免徵，包括用作產製另一應稅菸酒、運銷國外、參加展覽並於展覽完畢原件復運回廠或出口、旅客自國外隨身攜帶之自用菸酒或調岸船員攜帶自用菸酒，且未超過政府規定的限量。另外，菸酒稅於菸酒出廠或進口時徵收，而菸酒的出廠情形包括在廠內供消費者、在廠內加工為非應稅產品、在廠內因依法強制執行或其他原因而移轉他人持有、產製廠商申請註銷登記時之庫存菸酒、以及未稅移運至加工、包裝場所或存儲未稅倉庫及廠內，有遇火焚毀或落水沉沒及其他人力不可抵抗災害以外之情事，致短少者。\n",
      "==================================================\n",
      "Document 1:\n",
      "* 2 菸酒類稅為國家稅，由財政部稅務署所屬稅務機關徵收之。\n",
      "\n",
      "* 3 菸酒類稅稅率規定如左。（一）菸類稅分菸葉菸絲兩種，菸葉稅按照產區核定完稅價格徵收百分之三十，菸絲稅徵收百分之十五。（二）酒類稅按產地核定完稅價格徵收百分之四十。前項第一款刨絲之菸葉，仍應先納菸葉稅。\n",
      "==================================================\n",
      "Document 2:\n",
      "* 12 產製廠商當月份出廠菸酒之應納稅款，應於次月十五日以前自行向公庫繳納，並依照財政部規定之格式填具計算稅額申報書，檢同繳款書收據向主管稽徵機關申報。無應納稅額者，仍應向主管稽徵機關申報。進口應稅菸酒，納稅義務人應向海關申報，並由海關於徵收關稅時代徵之。法院及其他機關拍賣尚未完稅之菸酒，拍定人應於提領前向所在地主管稽徵機關申報納稅。\n",
      "==================================================\n",
      "Document 3:\n",
      "* 4 菸酒稅之納稅義務人如下：一、國內產製之菸酒，為產製廠商。二、委託代製之菸酒，為受託之產製廠商。三、國外進口之菸酒，為收貨人、提貨單或貨物持有人。四、法院及其他機關拍賣尚未完稅之菸酒，為拍定人。五、免稅菸酒因轉讓或移作他用而不符免稅規定者，為轉讓或移作他用之人或貨物持有人。前項第二款委託代製之菸酒，委託廠商為產製應稅菸酒之廠商者，得向主管稽徵機關申請以委託廠商為納稅義務人。\n",
      "==================================================\n",
      "Document 4:\n",
      "> 釋：明定菸酒稅之納稅義務人。\n",
      "\n",
      "* 5 菸酒有下列情形之一者，免徵菸酒稅：一、用作產製另一應稅菸酒者。二、運銷國外者。三、參加展覽，於展覽完畢原件復運回廠或出口者。四、旅客自國外隨身攜帶之自用菸酒或調岸船員攜帶自用菸酒，未超過政府規定之限量者。\n",
      "==================================================\n",
      "Document 5:\n",
      "* 3 菸酒稅於菸酒出廠或進口時徵收之。菸酒有下列情形之一，視為出廠：一、在廠內供消費者。二、在廠內加工為非應稅產品者。三、在廠內因依法強制執行或其他原因而移轉他人持有者。四、產製廠商申請註銷登記時之庫存菸酒。五、未稅移運至加工、包裝場所或存儲未稅倉庫及廠內，有遇火焚毀或落水沉沒及其他人力不可抵抗災害以外之情事，致短少者。\n"
     ]
    }
   ],
   "source": [
    "print(\"Our query:\", query)\n",
    "#print(\"Generated Sub-queries:\", sub_queries)\n",
    "print(\"=\"* 50)\n",
    "\n",
    "RAG_cluster_LLM(query, results)\n",
    "\n",
    "for i, doc in enumerate(results):\n",
    "    print(\"=\"* 50)\n",
    "    print(f\"Document {i+1}:\")\n",
    "    print(results[i])\n",
    "    "
   ]
  },
  {
   "cell_type": "code",
   "execution_count": null,
   "metadata": {},
   "outputs": [],
   "source": []
  }
 ],
 "metadata": {
  "kernelspec": {
   "display_name": "mypaer",
   "language": "python",
   "name": "python3"
  },
  "language_info": {
   "codemirror_mode": {
    "name": "ipython",
    "version": 3
   },
   "file_extension": ".py",
   "mimetype": "text/x-python",
   "name": "python",
   "nbconvert_exporter": "python",
   "pygments_lexer": "ipython3",
   "version": "3.9.19"
  }
 },
 "nbformat": 4,
 "nbformat_minor": 2
}
